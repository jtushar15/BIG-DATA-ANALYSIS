{
  "metadata": {
    "kernelspec": {
      "language": "python",
      "display_name": "Python 3",
      "name": "python3"
    },
    "language_info": {
      "name": "python",
      "version": "3.7.12",
      "mimetype": "text/x-python",
      "codemirror_mode": {
        "name": "ipython",
        "version": 3
      },
      "pygments_lexer": "ipython3",
      "nbconvert_exporter": "python",
      "file_extension": ".py"
    },
    "colab": {
      "provenance": []
    }
  },
  "nbformat_minor": 0,
  "nbformat": 4,
  "cells": [
    {
      "cell_type": "markdown",
      "source": [
        "# **BIG DATA ANALYSIS**"
      ],
      "metadata": {
        "id": "AJeVtJg1Aj71"
      }
    },
    {
      "cell_type": "markdown",
      "source": [
        "Install PySpark"
      ],
      "metadata": {
        "id": "ZJ6Z6u-LA762"
      }
    },
    {
      "cell_type": "code",
      "source": [
        "!pip install pyspark"
      ],
      "metadata": {
        "execution": {
          "iopub.status.busy": "2022-10-04T18:35:35.237678Z",
          "iopub.execute_input": "2022-10-04T18:35:35.238143Z",
          "iopub.status.idle": "2022-10-04T18:36:50.744320Z",
          "shell.execute_reply.started": "2022-10-04T18:35:35.238053Z",
          "shell.execute_reply": "2022-10-04T18:36:50.743103Z"
        },
        "trusted": true,
        "colab": {
          "base_uri": "https://localhost:8080/"
        },
        "id": "EQRAz7yObw0P",
        "outputId": "16eb5f53-db2e-4d37-f0dd-04a18fc3dcbb"
      },
      "execution_count": 1,
      "outputs": [
        {
          "output_type": "stream",
          "name": "stdout",
          "text": [
            "Requirement already satisfied: pyspark in /usr/local/lib/python3.11/dist-packages (3.5.4)\n",
            "Requirement already satisfied: py4j==0.10.9.7 in /usr/local/lib/python3.11/dist-packages (from pyspark) (0.10.9.7)\n"
          ]
        }
      ]
    },
    {
      "cell_type": "markdown",
      "source": [
        "Import Pyspark Libraries"
      ],
      "metadata": {
        "id": "008N_psMBFoF"
      }
    },
    {
      "cell_type": "code",
      "source": [
        "import pyspark as sp\n",
        "\n",
        "sc = sp.SparkContext.getOrCreate()\n",
        "print(sc)\n",
        "print(sc.version)"
      ],
      "metadata": {
        "_uuid": "8f2839f25d086af736a60e9eeb907d3b93b6e0e5",
        "_cell_guid": "b1076dfc-b9ad-4769-8c92-a6c4dae69d19",
        "execution": {
          "iopub.status.busy": "2022-10-04T18:36:50.746766Z",
          "iopub.execute_input": "2022-10-04T18:36:50.747161Z",
          "iopub.status.idle": "2022-10-04T18:36:56.983636Z",
          "shell.execute_reply.started": "2022-10-04T18:36:50.747121Z",
          "shell.execute_reply": "2022-10-04T18:36:56.982061Z"
        },
        "trusted": true,
        "colab": {
          "base_uri": "https://localhost:8080/"
        },
        "id": "3C7KnkwUbw0U",
        "outputId": "bbad72a8-6b6b-4a92-d3cd-d6a5a1ec142d"
      },
      "execution_count": 2,
      "outputs": [
        {
          "output_type": "stream",
          "name": "stdout",
          "text": [
            "<SparkContext master=local[*] appName=pyspark-shell>\n",
            "3.5.4\n"
          ]
        }
      ]
    },
    {
      "cell_type": "code",
      "source": [
        "#import SparkSession pyspark.sql\n",
        "from pyspark.sql import SparkSession\n",
        "\n",
        "#Create my_spark\n",
        "spark = SparkSession.builder.getOrCreate()\n",
        "\n",
        "#print my_spark\n",
        "print(spark)"
      ],
      "metadata": {
        "execution": {
          "iopub.status.busy": "2022-10-04T18:36:56.986316Z",
          "iopub.execute_input": "2022-10-04T18:36:56.987186Z",
          "iopub.status.idle": "2022-10-04T18:36:57.168493Z",
          "shell.execute_reply.started": "2022-10-04T18:36:56.987127Z",
          "shell.execute_reply": "2022-10-04T18:36:57.166333Z"
        },
        "trusted": true,
        "colab": {
          "base_uri": "https://localhost:8080/"
        },
        "id": "t_SAC3OWbw0W",
        "outputId": "850db671-f1f6-4ae7-b383-c6d0e24b408b"
      },
      "execution_count": 3,
      "outputs": [
        {
          "output_type": "stream",
          "name": "stdout",
          "text": [
            "<pyspark.sql.session.SparkSession object at 0x7c88a0a67b90>\n"
          ]
        }
      ]
    },
    {
      "cell_type": "code",
      "source": [
        "\n",
        "import pandas as pd\n",
        "import numpy as np\n",
        "\n",
        "# Create pd_temp\n",
        "pd_temp = pd.DataFrame(np.random.random(10))\n",
        "\n",
        "# Create spark_temp from pd_temp\n",
        "spark_temp = spark.createDataFrame(pd_temp)\n",
        "\n",
        "# Examine the tables in the catalog\n",
        "print(spark.catalog.listTables())\n",
        "\n",
        "# Add spark_temp to the catalog\n",
        "spark_temp.createOrReplaceTempView(\"temp\")\n",
        "\n",
        "# Examine the tables in the catalog again\n",
        "print(spark.catalog.listTables())"
      ],
      "metadata": {
        "execution": {
          "iopub.status.busy": "2022-10-04T18:36:57.171664Z",
          "iopub.execute_input": "2022-10-04T18:36:57.172754Z",
          "iopub.status.idle": "2022-10-04T18:37:03.348656Z",
          "shell.execute_reply.started": "2022-10-04T18:36:57.172713Z",
          "shell.execute_reply": "2022-10-04T18:37:03.347401Z"
        },
        "trusted": true,
        "colab": {
          "base_uri": "https://localhost:8080/"
        },
        "id": "TIPpBxbAbw0Y",
        "outputId": "4e35458c-5aa6-43fe-aa12-abc9126354f2"
      },
      "execution_count": 4,
      "outputs": [
        {
          "output_type": "stream",
          "name": "stdout",
          "text": [
            "[]\n",
            "[Table(name='temp', catalog=None, namespace=[], description=None, tableType='TEMPORARY', isTemporary=True)]\n"
          ]
        }
      ]
    },
    {
      "cell_type": "code",
      "source": [
        "file_path = '/content/airports.csv'\n",
        "\n",
        "#Read in the airports path\n",
        "airports = spark.read.csv(file_path, header=True)\n",
        "\n",
        "airports.show()\n"
      ],
      "metadata": {
        "execution": {
          "iopub.status.busy": "2022-10-04T18:37:03.349952Z",
          "iopub.execute_input": "2022-10-04T18:37:03.350415Z",
          "iopub.status.idle": "2022-10-04T18:37:04.908662Z",
          "shell.execute_reply.started": "2022-10-04T18:37:03.350372Z",
          "shell.execute_reply": "2022-10-04T18:37:04.907365Z"
        },
        "trusted": true,
        "colab": {
          "base_uri": "https://localhost:8080/"
        },
        "id": "lh4I1yAKbw0b",
        "outputId": "e4a41cef-a779-41a1-de2e-537f5f733f52"
      },
      "execution_count": 6,
      "outputs": [
        {
          "output_type": "stream",
          "name": "stdout",
          "text": [
            "+---+--------------------+----------------+-----------------+----+---+---+\n",
            "|faa|                name|             lat|              lon| alt| tz|dst|\n",
            "+---+--------------------+----------------+-----------------+----+---+---+\n",
            "|04G|   Lansdowne Airport|      41.1304722|      -80.6195833|1044| -5|  A|\n",
            "|06A|Moton Field Munic...|      32.4605722|      -85.6800278| 264| -5|  A|\n",
            "|06C| Schaumburg Regional|      41.9893408|      -88.1012428| 801| -6|  A|\n",
            "|06N|     Randall Airport|       41.431912|      -74.3915611| 523| -5|  A|\n",
            "|09J|Jekyll Island Air...|      31.0744722|      -81.4277778|  11| -4|  A|\n",
            "|0A9|Elizabethton Muni...|      36.3712222|      -82.1734167|1593| -4|  A|\n",
            "|0G6|Williams County A...|      41.4673056|      -84.5067778| 730| -5|  A|\n",
            "|0G7|Finger Lakes Regi...|      42.8835647|      -76.7812318| 492| -5|  A|\n",
            "|0P2|Shoestring Aviati...|      39.7948244|      -76.6471914|1000| -5|  U|\n",
            "|0S9|Jefferson County ...|      48.0538086|     -122.8106436| 108| -8|  A|\n",
            "|0W3|Harford County Ai...|      39.5668378|      -76.2024028| 409| -5|  A|\n",
            "|10C|  Galt Field Airport|      42.4028889|      -88.3751111| 875| -6|  U|\n",
            "|17G|Port Bucyrus-Craw...|      40.7815556|      -82.9748056|1003| -5|  A|\n",
            "|19A|Jackson County Ai...|      34.1758638|      -83.5615972| 951| -4|  U|\n",
            "|1A3|Martin Campbell F...|      35.0158056|      -84.3468333|1789| -4|  A|\n",
            "|1B9| Mansfield Municipal|      42.0001331|      -71.1967714| 122| -5|  A|\n",
            "|1C9|Frazier Lake Airpark|54.0133333333333|-124.768333333333| 152| -8|  A|\n",
            "|1CS|Clow Internationa...|      41.6959744|      -88.1292306| 670| -6|  U|\n",
            "|1G3|  Kent State Airport|      41.1513889|      -81.4151111|1134| -4|  A|\n",
            "|1OH|     Fortman Airport|      40.5553253|      -84.3866186| 885| -5|  U|\n",
            "+---+--------------------+----------------+-----------------+----+---+---+\n",
            "only showing top 20 rows\n",
            "\n"
          ]
        }
      ]
    },
    {
      "cell_type": "code",
      "source": [
        "type(airports)"
      ],
      "metadata": {
        "execution": {
          "iopub.status.busy": "2022-10-04T18:37:04.910011Z",
          "iopub.execute_input": "2022-10-04T18:37:04.910490Z",
          "iopub.status.idle": "2022-10-04T18:37:04.927911Z",
          "shell.execute_reply.started": "2022-10-04T18:37:04.910443Z",
          "shell.execute_reply": "2022-10-04T18:37:04.926230Z"
        },
        "trusted": true,
        "colab": {
          "base_uri": "https://localhost:8080/",
          "height": 186
        },
        "id": "EOOrwuHrbw0h",
        "outputId": "174c9c19-9bd1-4e51-f6c5-aa8263232265"
      },
      "execution_count": 7,
      "outputs": [
        {
          "output_type": "execute_result",
          "data": {
            "text/plain": [
              "pyspark.sql.dataframe.DataFrame"
            ],
            "text/html": [
              "<div style=\"max-width:800px; border: 1px solid var(--colab-border-color);\"><style>\n",
              "      pre.function-repr-contents {\n",
              "        overflow-x: auto;\n",
              "        padding: 8px 12px;\n",
              "        max-height: 500px;\n",
              "      }\n",
              "\n",
              "      pre.function-repr-contents.function-repr-contents-collapsed {\n",
              "        cursor: pointer;\n",
              "        max-height: 100px;\n",
              "      }\n",
              "    </style>\n",
              "    <pre style=\"white-space: initial; background:\n",
              "         var(--colab-secondary-surface-color); padding: 8px 12px;\n",
              "         border-bottom: 1px solid var(--colab-border-color);\"><b>pyspark.sql.dataframe.DataFrame</b><br/>def __init__(jdf: JavaObject, sql_ctx: Union[&#x27;SQLContext&#x27;, &#x27;SparkSession&#x27;])</pre><pre class=\"function-repr-contents function-repr-contents-collapsed\" style=\"\"><a class=\"filepath\" style=\"display:none\" href=\"#\">/usr/local/lib/python3.11/dist-packages/pyspark/sql/dataframe.py</a>A distributed collection of data grouped into named columns.\n",
              "\n",
              ".. versionadded:: 1.3.0\n",
              "\n",
              ".. versionchanged:: 3.4.0\n",
              "    Supports Spark Connect.\n",
              "\n",
              "Examples\n",
              "--------\n",
              "A :class:`DataFrame` is equivalent to a relational table in Spark SQL,\n",
              "and can be created using various functions in :class:`SparkSession`:\n",
              "\n",
              "&gt;&gt;&gt; people = spark.createDataFrame([\n",
              "...     {&quot;deptId&quot;: 1, &quot;age&quot;: 40, &quot;name&quot;: &quot;Hyukjin Kwon&quot;, &quot;gender&quot;: &quot;M&quot;, &quot;salary&quot;: 50},\n",
              "...     {&quot;deptId&quot;: 1, &quot;age&quot;: 50, &quot;name&quot;: &quot;Takuya Ueshin&quot;, &quot;gender&quot;: &quot;M&quot;, &quot;salary&quot;: 100},\n",
              "...     {&quot;deptId&quot;: 2, &quot;age&quot;: 60, &quot;name&quot;: &quot;Xinrong Meng&quot;, &quot;gender&quot;: &quot;F&quot;, &quot;salary&quot;: 150},\n",
              "...     {&quot;deptId&quot;: 3, &quot;age&quot;: 20, &quot;name&quot;: &quot;Haejoon Lee&quot;, &quot;gender&quot;: &quot;M&quot;, &quot;salary&quot;: 200}\n",
              "... ])\n",
              "\n",
              "Once created, it can be manipulated using the various domain-specific-language\n",
              "(DSL) functions defined in: :class:`DataFrame`, :class:`Column`.\n",
              "\n",
              "To select a column from the :class:`DataFrame`, use the apply method:\n",
              "\n",
              "&gt;&gt;&gt; age_col = people.age\n",
              "\n",
              "A more concrete example:\n",
              "\n",
              "&gt;&gt;&gt; # To create DataFrame using SparkSession\n",
              "... department = spark.createDataFrame([\n",
              "...     {&quot;id&quot;: 1, &quot;name&quot;: &quot;PySpark&quot;},\n",
              "...     {&quot;id&quot;: 2, &quot;name&quot;: &quot;ML&quot;},\n",
              "...     {&quot;id&quot;: 3, &quot;name&quot;: &quot;Spark SQL&quot;}\n",
              "... ])\n",
              "\n",
              "&gt;&gt;&gt; people.filter(people.age &gt; 30).join(\n",
              "...     department, people.deptId == department.id).groupBy(\n",
              "...     department.name, &quot;gender&quot;).agg({&quot;salary&quot;: &quot;avg&quot;, &quot;age&quot;: &quot;max&quot;}).show()\n",
              "+-------+------+-----------+--------+\n",
              "|   name|gender|avg(salary)|max(age)|\n",
              "+-------+------+-----------+--------+\n",
              "|     ML|     F|      150.0|      60|\n",
              "|PySpark|     M|       75.0|      50|\n",
              "+-------+------+-----------+--------+\n",
              "\n",
              "Notes\n",
              "-----\n",
              "A DataFrame should only be created as described above. It should not be directly\n",
              "created via using the constructor.</pre>\n",
              "      <script>\n",
              "      if (google.colab.kernel.accessAllowed && google.colab.files && google.colab.files.view) {\n",
              "        for (const element of document.querySelectorAll('.filepath')) {\n",
              "          element.style.display = 'block'\n",
              "          element.onclick = (event) => {\n",
              "            event.preventDefault();\n",
              "            event.stopPropagation();\n",
              "            google.colab.files.view(element.textContent, 80);\n",
              "          };\n",
              "        }\n",
              "      }\n",
              "      for (const element of document.querySelectorAll('.function-repr-contents')) {\n",
              "        element.onclick = (event) => {\n",
              "          event.preventDefault();\n",
              "          event.stopPropagation();\n",
              "          element.classList.toggle('function-repr-contents-collapsed');\n",
              "        };\n",
              "      }\n",
              "      </script>\n",
              "      </div>"
            ]
          },
          "metadata": {},
          "execution_count": 7
        }
      ]
    },
    {
      "cell_type": "code",
      "source": [
        "spark.catalog.listDatabases()"
      ],
      "metadata": {
        "execution": {
          "iopub.status.busy": "2022-10-04T18:37:04.930593Z",
          "iopub.execute_input": "2022-10-04T18:37:04.931522Z",
          "iopub.status.idle": "2022-10-04T18:37:05.248720Z",
          "shell.execute_reply.started": "2022-10-04T18:37:04.931469Z",
          "shell.execute_reply": "2022-10-04T18:37:05.247373Z"
        },
        "trusted": true,
        "colab": {
          "base_uri": "https://localhost:8080/"
        },
        "id": "fWLGEYhybw0j",
        "outputId": "ae32d0ca-bae0-491c-8658-817ca021d554"
      },
      "execution_count": 8,
      "outputs": [
        {
          "output_type": "execute_result",
          "data": {
            "text/plain": [
              "[Database(name='default', catalog='spark_catalog', description='default database', locationUri='file:/content/spark-warehouse')]"
            ]
          },
          "metadata": {},
          "execution_count": 8
        }
      ]
    },
    {
      "cell_type": "code",
      "source": [
        "spark.catalog.listTables()"
      ],
      "metadata": {
        "execution": {
          "iopub.status.busy": "2022-10-04T18:37:05.250103Z",
          "iopub.execute_input": "2022-10-04T18:37:05.250587Z",
          "iopub.status.idle": "2022-10-04T18:37:05.463671Z",
          "shell.execute_reply.started": "2022-10-04T18:37:05.250538Z",
          "shell.execute_reply": "2022-10-04T18:37:05.462305Z"
        },
        "trusted": true,
        "colab": {
          "base_uri": "https://localhost:8080/"
        },
        "id": "iILUxJYtbw0l",
        "outputId": "872f4abf-a3f2-4b40-addd-0e0320698784"
      },
      "execution_count": 9,
      "outputs": [
        {
          "output_type": "execute_result",
          "data": {
            "text/plain": [
              "[Table(name='temp', catalog=None, namespace=[], description=None, tableType='TEMPORARY', isTemporary=True)]"
            ]
          },
          "metadata": {},
          "execution_count": 9
        }
      ]
    },
    {
      "cell_type": "code",
      "source": [
        "flights = spark.read.csv('/content/flights_small.csv', header=True)\n",
        "flights.show()"
      ],
      "metadata": {
        "execution": {
          "iopub.status.busy": "2022-10-04T18:37:05.468866Z",
          "iopub.execute_input": "2022-10-04T18:37:05.469400Z",
          "iopub.status.idle": "2022-10-04T18:37:06.065131Z",
          "shell.execute_reply.started": "2022-10-04T18:37:05.469352Z",
          "shell.execute_reply": "2022-10-04T18:37:06.063688Z"
        },
        "trusted": true,
        "colab": {
          "base_uri": "https://localhost:8080/"
        },
        "id": "Z1Y9cHMtbw0m",
        "outputId": "258fa3a9-4723-4136-f599-a187fbb8dedf"
      },
      "execution_count": 10,
      "outputs": [
        {
          "output_type": "stream",
          "name": "stdout",
          "text": [
            "+----+-----+---+--------+---------+--------+---------+-------+-------+------+------+----+--------+--------+----+------+\n",
            "|year|month|day|dep_time|dep_delay|arr_time|arr_delay|carrier|tailnum|flight|origin|dest|air_time|distance|hour|minute|\n",
            "+----+-----+---+--------+---------+--------+---------+-------+-------+------+------+----+--------+--------+----+------+\n",
            "|2014|   12|  8|     658|       -7|     935|       -5|     VX| N846VA|  1780|   SEA| LAX|     132|     954|   6|    58|\n",
            "|2014|    1| 22|    1040|        5|    1505|        5|     AS| N559AS|   851|   SEA| HNL|     360|    2677|  10|    40|\n",
            "|2014|    3|  9|    1443|       -2|    1652|        2|     VX| N847VA|   755|   SEA| SFO|     111|     679|  14|    43|\n",
            "|2014|    4|  9|    1705|       45|    1839|       34|     WN| N360SW|   344|   PDX| SJC|      83|     569|  17|     5|\n",
            "|2014|    3|  9|     754|       -1|    1015|        1|     AS| N612AS|   522|   SEA| BUR|     127|     937|   7|    54|\n",
            "|2014|    1| 15|    1037|        7|    1352|        2|     WN| N646SW|    48|   PDX| DEN|     121|     991|  10|    37|\n",
            "|2014|    7|  2|     847|       42|    1041|       51|     WN| N422WN|  1520|   PDX| OAK|      90|     543|   8|    47|\n",
            "|2014|    5| 12|    1655|       -5|    1842|      -18|     VX| N361VA|   755|   SEA| SFO|      98|     679|  16|    55|\n",
            "|2014|    4| 19|    1236|       -4|    1508|       -7|     AS| N309AS|   490|   SEA| SAN|     135|    1050|  12|    36|\n",
            "|2014|   11| 19|    1812|       -3|    2352|       -4|     AS| N564AS|    26|   SEA| ORD|     198|    1721|  18|    12|\n",
            "|2014|   11|  8|    1653|       -2|    1924|       -1|     AS| N323AS|   448|   SEA| LAX|     130|     954|  16|    53|\n",
            "|2014|    8|  3|    1120|        0|    1415|        2|     AS| N305AS|   656|   SEA| PHX|     154|    1107|  11|    20|\n",
            "|2014|   10| 30|     811|       21|    1038|       29|     AS| N433AS|   608|   SEA| LAS|     127|     867|   8|    11|\n",
            "|2014|   11| 12|    2346|       -4|     217|      -28|     AS| N765AS|   121|   SEA| ANC|     183|    1448|  23|    46|\n",
            "|2014|   10| 31|    1314|       89|    1544|      111|     AS| N713AS|   306|   SEA| SFO|     129|     679|  13|    14|\n",
            "|2014|    1| 29|    2009|        3|    2159|        9|     UA| N27205|  1458|   PDX| SFO|      90|     550|  20|     9|\n",
            "|2014|   12| 17|    2015|       50|    2150|       41|     AS| N626AS|   368|   SEA| SMF|      76|     605|  20|    15|\n",
            "|2014|    8| 11|    1017|       -3|    1613|       -7|     WN| N8634A|   827|   SEA| MDW|     216|    1733|  10|    17|\n",
            "|2014|    1| 13|    2156|       -9|     607|      -15|     AS| N597AS|    24|   SEA| BOS|     290|    2496|  21|    56|\n",
            "|2014|    6|  5|    1733|      -12|    1945|      -10|     OO| N215AG|  3488|   PDX| BUR|     111|     817|  17|    33|\n",
            "+----+-----+---+--------+---------+--------+---------+-------+-------+------+------+----+--------+--------+----+------+\n",
            "only showing top 20 rows\n",
            "\n"
          ]
        }
      ]
    },
    {
      "cell_type": "code",
      "source": [
        "flights.name = flights.createOrReplaceTempView('flights')\n",
        "spark.catalog.listTables()"
      ],
      "metadata": {
        "execution": {
          "iopub.status.busy": "2022-10-04T18:37:06.069128Z",
          "iopub.execute_input": "2022-10-04T18:37:06.071712Z",
          "iopub.status.idle": "2022-10-04T18:37:06.298102Z",
          "shell.execute_reply.started": "2022-10-04T18:37:06.071649Z",
          "shell.execute_reply": "2022-10-04T18:37:06.296167Z"
        },
        "trusted": true,
        "colab": {
          "base_uri": "https://localhost:8080/"
        },
        "id": "UTk3hciubw0o",
        "outputId": "cccbd1d9-f516-4792-bf12-4779baa8c256"
      },
      "execution_count": 11,
      "outputs": [
        {
          "output_type": "execute_result",
          "data": {
            "text/plain": [
              "[Table(name='flights', catalog=None, namespace=[], description=None, tableType='TEMPORARY', isTemporary=True),\n",
              " Table(name='temp', catalog=None, namespace=[], description=None, tableType='TEMPORARY', isTemporary=True)]"
            ]
          },
          "metadata": {},
          "execution_count": 11
        }
      ]
    },
    {
      "cell_type": "code",
      "source": [
        "# Create the DataFrame flights\n",
        "flights_df = spark.table('flights')\n",
        "print(flights_df.show())"
      ],
      "metadata": {
        "execution": {
          "iopub.status.busy": "2022-10-04T18:37:06.302520Z",
          "iopub.execute_input": "2022-10-04T18:37:06.303502Z",
          "iopub.status.idle": "2022-10-04T18:37:06.541702Z",
          "shell.execute_reply.started": "2022-10-04T18:37:06.303444Z",
          "shell.execute_reply": "2022-10-04T18:37:06.540533Z"
        },
        "trusted": true,
        "colab": {
          "base_uri": "https://localhost:8080/"
        },
        "id": "NqVs0c9Zbw0p",
        "outputId": "94bac1d0-c31c-463f-f6ce-ee895394fcb1"
      },
      "execution_count": 12,
      "outputs": [
        {
          "output_type": "stream",
          "name": "stdout",
          "text": [
            "+----+-----+---+--------+---------+--------+---------+-------+-------+------+------+----+--------+--------+----+------+\n",
            "|year|month|day|dep_time|dep_delay|arr_time|arr_delay|carrier|tailnum|flight|origin|dest|air_time|distance|hour|minute|\n",
            "+----+-----+---+--------+---------+--------+---------+-------+-------+------+------+----+--------+--------+----+------+\n",
            "|2014|   12|  8|     658|       -7|     935|       -5|     VX| N846VA|  1780|   SEA| LAX|     132|     954|   6|    58|\n",
            "|2014|    1| 22|    1040|        5|    1505|        5|     AS| N559AS|   851|   SEA| HNL|     360|    2677|  10|    40|\n",
            "|2014|    3|  9|    1443|       -2|    1652|        2|     VX| N847VA|   755|   SEA| SFO|     111|     679|  14|    43|\n",
            "|2014|    4|  9|    1705|       45|    1839|       34|     WN| N360SW|   344|   PDX| SJC|      83|     569|  17|     5|\n",
            "|2014|    3|  9|     754|       -1|    1015|        1|     AS| N612AS|   522|   SEA| BUR|     127|     937|   7|    54|\n",
            "|2014|    1| 15|    1037|        7|    1352|        2|     WN| N646SW|    48|   PDX| DEN|     121|     991|  10|    37|\n",
            "|2014|    7|  2|     847|       42|    1041|       51|     WN| N422WN|  1520|   PDX| OAK|      90|     543|   8|    47|\n",
            "|2014|    5| 12|    1655|       -5|    1842|      -18|     VX| N361VA|   755|   SEA| SFO|      98|     679|  16|    55|\n",
            "|2014|    4| 19|    1236|       -4|    1508|       -7|     AS| N309AS|   490|   SEA| SAN|     135|    1050|  12|    36|\n",
            "|2014|   11| 19|    1812|       -3|    2352|       -4|     AS| N564AS|    26|   SEA| ORD|     198|    1721|  18|    12|\n",
            "|2014|   11|  8|    1653|       -2|    1924|       -1|     AS| N323AS|   448|   SEA| LAX|     130|     954|  16|    53|\n",
            "|2014|    8|  3|    1120|        0|    1415|        2|     AS| N305AS|   656|   SEA| PHX|     154|    1107|  11|    20|\n",
            "|2014|   10| 30|     811|       21|    1038|       29|     AS| N433AS|   608|   SEA| LAS|     127|     867|   8|    11|\n",
            "|2014|   11| 12|    2346|       -4|     217|      -28|     AS| N765AS|   121|   SEA| ANC|     183|    1448|  23|    46|\n",
            "|2014|   10| 31|    1314|       89|    1544|      111|     AS| N713AS|   306|   SEA| SFO|     129|     679|  13|    14|\n",
            "|2014|    1| 29|    2009|        3|    2159|        9|     UA| N27205|  1458|   PDX| SFO|      90|     550|  20|     9|\n",
            "|2014|   12| 17|    2015|       50|    2150|       41|     AS| N626AS|   368|   SEA| SMF|      76|     605|  20|    15|\n",
            "|2014|    8| 11|    1017|       -3|    1613|       -7|     WN| N8634A|   827|   SEA| MDW|     216|    1733|  10|    17|\n",
            "|2014|    1| 13|    2156|       -9|     607|      -15|     AS| N597AS|    24|   SEA| BOS|     290|    2496|  21|    56|\n",
            "|2014|    6|  5|    1733|      -12|    1945|      -10|     OO| N215AG|  3488|   PDX| BUR|     111|     817|  17|    33|\n",
            "+----+-----+---+--------+---------+--------+---------+-------+-------+------+------+----+--------+--------+----+------+\n",
            "only showing top 20 rows\n",
            "\n",
            "None\n"
          ]
        }
      ]
    },
    {
      "cell_type": "code",
      "source": [
        "#include a new column called duration_hrs\n",
        "flights = flights.withColumn('duration_hrs', flights.air_time / 60)\n",
        "flights.show()"
      ],
      "metadata": {
        "execution": {
          "iopub.status.busy": "2022-10-04T18:37:06.542928Z",
          "iopub.execute_input": "2022-10-04T18:37:06.543436Z",
          "iopub.status.idle": "2022-10-04T18:37:07.183439Z",
          "shell.execute_reply.started": "2022-10-04T18:37:06.543388Z",
          "shell.execute_reply": "2022-10-04T18:37:07.182164Z"
        },
        "trusted": true,
        "colab": {
          "base_uri": "https://localhost:8080/"
        },
        "id": "_zu12ebObw0r",
        "outputId": "445fca1c-e63b-43a0-a190-89c7fa32406f"
      },
      "execution_count": 13,
      "outputs": [
        {
          "output_type": "stream",
          "name": "stdout",
          "text": [
            "+----+-----+---+--------+---------+--------+---------+-------+-------+------+------+----+--------+--------+----+------+------------------+\n",
            "|year|month|day|dep_time|dep_delay|arr_time|arr_delay|carrier|tailnum|flight|origin|dest|air_time|distance|hour|minute|      duration_hrs|\n",
            "+----+-----+---+--------+---------+--------+---------+-------+-------+------+------+----+--------+--------+----+------+------------------+\n",
            "|2014|   12|  8|     658|       -7|     935|       -5|     VX| N846VA|  1780|   SEA| LAX|     132|     954|   6|    58|               2.2|\n",
            "|2014|    1| 22|    1040|        5|    1505|        5|     AS| N559AS|   851|   SEA| HNL|     360|    2677|  10|    40|               6.0|\n",
            "|2014|    3|  9|    1443|       -2|    1652|        2|     VX| N847VA|   755|   SEA| SFO|     111|     679|  14|    43|              1.85|\n",
            "|2014|    4|  9|    1705|       45|    1839|       34|     WN| N360SW|   344|   PDX| SJC|      83|     569|  17|     5|1.3833333333333333|\n",
            "|2014|    3|  9|     754|       -1|    1015|        1|     AS| N612AS|   522|   SEA| BUR|     127|     937|   7|    54|2.1166666666666667|\n",
            "|2014|    1| 15|    1037|        7|    1352|        2|     WN| N646SW|    48|   PDX| DEN|     121|     991|  10|    37|2.0166666666666666|\n",
            "|2014|    7|  2|     847|       42|    1041|       51|     WN| N422WN|  1520|   PDX| OAK|      90|     543|   8|    47|               1.5|\n",
            "|2014|    5| 12|    1655|       -5|    1842|      -18|     VX| N361VA|   755|   SEA| SFO|      98|     679|  16|    55|1.6333333333333333|\n",
            "|2014|    4| 19|    1236|       -4|    1508|       -7|     AS| N309AS|   490|   SEA| SAN|     135|    1050|  12|    36|              2.25|\n",
            "|2014|   11| 19|    1812|       -3|    2352|       -4|     AS| N564AS|    26|   SEA| ORD|     198|    1721|  18|    12|               3.3|\n",
            "|2014|   11|  8|    1653|       -2|    1924|       -1|     AS| N323AS|   448|   SEA| LAX|     130|     954|  16|    53|2.1666666666666665|\n",
            "|2014|    8|  3|    1120|        0|    1415|        2|     AS| N305AS|   656|   SEA| PHX|     154|    1107|  11|    20| 2.566666666666667|\n",
            "|2014|   10| 30|     811|       21|    1038|       29|     AS| N433AS|   608|   SEA| LAS|     127|     867|   8|    11|2.1166666666666667|\n",
            "|2014|   11| 12|    2346|       -4|     217|      -28|     AS| N765AS|   121|   SEA| ANC|     183|    1448|  23|    46|              3.05|\n",
            "|2014|   10| 31|    1314|       89|    1544|      111|     AS| N713AS|   306|   SEA| SFO|     129|     679|  13|    14|              2.15|\n",
            "|2014|    1| 29|    2009|        3|    2159|        9|     UA| N27205|  1458|   PDX| SFO|      90|     550|  20|     9|               1.5|\n",
            "|2014|   12| 17|    2015|       50|    2150|       41|     AS| N626AS|   368|   SEA| SMF|      76|     605|  20|    15|1.2666666666666666|\n",
            "|2014|    8| 11|    1017|       -3|    1613|       -7|     WN| N8634A|   827|   SEA| MDW|     216|    1733|  10|    17|               3.6|\n",
            "|2014|    1| 13|    2156|       -9|     607|      -15|     AS| N597AS|    24|   SEA| BOS|     290|    2496|  21|    56| 4.833333333333333|\n",
            "|2014|    6|  5|    1733|      -12|    1945|      -10|     OO| N215AG|  3488|   PDX| BUR|     111|     817|  17|    33|              1.85|\n",
            "+----+-----+---+--------+---------+--------+---------+-------+-------+------+------+----+--------+--------+----+------+------------------+\n",
            "only showing top 20 rows\n",
            "\n"
          ]
        }
      ]
    },
    {
      "cell_type": "code",
      "source": [
        "flights.describe().show()"
      ],
      "metadata": {
        "execution": {
          "iopub.status.busy": "2022-10-04T18:41:35.349321Z",
          "iopub.execute_input": "2022-10-04T18:41:35.352509Z",
          "iopub.status.idle": "2022-10-04T18:41:38.209621Z",
          "shell.execute_reply.started": "2022-10-04T18:41:35.352420Z",
          "shell.execute_reply": "2022-10-04T18:41:38.208238Z"
        },
        "trusted": true,
        "colab": {
          "base_uri": "https://localhost:8080/"
        },
        "id": "JoTunkInbw0s",
        "outputId": "39b611d7-bad4-4f6d-9360-b6d966d1ce06"
      },
      "execution_count": 14,
      "outputs": [
        {
          "output_type": "stream",
          "name": "stdout",
          "text": [
            "+-------+------+------------------+-----------------+------------------+------------------+------------------+------------------+-------+-------+-----------------+------+-----+------------------+-----------------+------------------+-----------------+------------------+\n",
            "|summary|  year|             month|              day|          dep_time|         dep_delay|          arr_time|         arr_delay|carrier|tailnum|           flight|origin| dest|          air_time|         distance|              hour|           minute|      duration_hrs|\n",
            "+-------+------+------------------+-----------------+------------------+------------------+------------------+------------------+-------+-------+-----------------+------+-----+------------------+-----------------+------------------+-----------------+------------------+\n",
            "|  count| 10000|             10000|            10000|             10000|             10000|             10000|             10000|  10000|  10000|            10000| 10000|10000|             10000|            10000|             10000|            10000|              9925|\n",
            "|   mean|2014.0|            6.6438|          15.7009|1277.1158561093248| 6.068629421221865|1477.7236802413272|2.2530982367758186|   NULL|   NULL|        1369.1011|  NULL| NULL|152.88423173803525|        1208.1516|12.465434083601286|30.57244774919614| 2.548070528967267|\n",
            "| stddev|   0.0|3.3191600205962097|8.895142019392079| 524.1142951055886|28.808608062751805| 526.5936522261665|31.074918600451877|   NULL|   NULL|1498.714573831908|  NULL| NULL|  72.8656286392139|656.8599023464376| 5.246262953748826|17.98533264217002|1.2144271439868943|\n",
            "|    min|  2014|                 1|                1|                 1|                -1|                 1|                -1|     AA| D942DN|               10|   PDX|  ABQ|               100|             1009|                 0|                0|0.3333333333333333|\n",
            "|    max|  2014|                 9|                9|                NA|                NA|                NA|                NA|     WN|     NA|              998|   SEA|  TUS|                NA|              991|                NA|               NA| 6.816666666666666|\n",
            "+-------+------+------------------+-----------------+------------------+------------------+------------------+------------------+-------+-------+-----------------+------+-----+------------------+-----------------+------------------+-----------------+------------------+\n",
            "\n"
          ]
        }
      ]
    },
    {
      "cell_type": "code",
      "source": [
        "# Filter flights with a SQL string\n",
        "long_flights1 = flights.filter('distance > 1000')\n",
        "long_flights1.show()"
      ],
      "metadata": {
        "execution": {
          "iopub.status.busy": "2022-09-23T19:34:51.849545Z",
          "iopub.execute_input": "2022-09-23T19:34:51.849945Z",
          "iopub.status.idle": "2022-09-23T19:34:52.122581Z",
          "shell.execute_reply.started": "2022-09-23T19:34:51.849913Z",
          "shell.execute_reply": "2022-09-23T19:34:52.121667Z"
        },
        "trusted": true,
        "colab": {
          "base_uri": "https://localhost:8080/"
        },
        "id": "rMcmhT8sbw0t",
        "outputId": "c149029a-d421-4d32-aeb0-06f44e908461"
      },
      "execution_count": 15,
      "outputs": [
        {
          "output_type": "stream",
          "name": "stdout",
          "text": [
            "+----+-----+---+--------+---------+--------+---------+-------+-------+------+------+----+--------+--------+----+------+------------------+\n",
            "|year|month|day|dep_time|dep_delay|arr_time|arr_delay|carrier|tailnum|flight|origin|dest|air_time|distance|hour|minute|      duration_hrs|\n",
            "+----+-----+---+--------+---------+--------+---------+-------+-------+------+------+----+--------+--------+----+------+------------------+\n",
            "|2014|    1| 22|    1040|        5|    1505|        5|     AS| N559AS|   851|   SEA| HNL|     360|    2677|  10|    40|               6.0|\n",
            "|2014|    4| 19|    1236|       -4|    1508|       -7|     AS| N309AS|   490|   SEA| SAN|     135|    1050|  12|    36|              2.25|\n",
            "|2014|   11| 19|    1812|       -3|    2352|       -4|     AS| N564AS|    26|   SEA| ORD|     198|    1721|  18|    12|               3.3|\n",
            "|2014|    8|  3|    1120|        0|    1415|        2|     AS| N305AS|   656|   SEA| PHX|     154|    1107|  11|    20| 2.566666666666667|\n",
            "|2014|   11| 12|    2346|       -4|     217|      -28|     AS| N765AS|   121|   SEA| ANC|     183|    1448|  23|    46|              3.05|\n",
            "|2014|    8| 11|    1017|       -3|    1613|       -7|     WN| N8634A|   827|   SEA| MDW|     216|    1733|  10|    17|               3.6|\n",
            "|2014|    1| 13|    2156|       -9|     607|      -15|     AS| N597AS|    24|   SEA| BOS|     290|    2496|  21|    56| 4.833333333333333|\n",
            "|2014|    9| 26|     610|       -5|    1523|       65|     US| N127UW|   616|   SEA| PHL|     293|    2378|   6|    10| 4.883333333333334|\n",
            "|2014|   12|  4|     954|       -6|    1348|      -17|     HA| N395HA|    29|   SEA| OGG|     333|    2640|   9|    54|              5.55|\n",
            "|2014|    6|  4|    1115|        0|    1346|       -3|     AS| N461AS|   488|   SEA| SAN|     133|    1050|  11|    15| 2.216666666666667|\n",
            "|2014|    6| 26|    2054|       -1|    2318|       -6|     B6| N590JB|   907|   SEA| ANC|     179|    1448|  20|    54|2.9833333333333334|\n",
            "|2014|    6|  7|    1823|       -7|    2112|      -28|     AS| N512AS|   815|   SEA| LIH|     335|    2701|  18|    23| 5.583333333333333|\n",
            "|2014|    4| 30|     801|        1|    1757|       90|     AS| N407AS|    18|   SEA| MCO|     342|    2554|   8|     1|               5.7|\n",
            "|2014|   11| 29|     905|      155|    1655|      170|     DL| N824DN|  1598|   SEA| ATL|     229|    2182|   9|     5| 3.816666666666667|\n",
            "|2014|    6|  2|    2222|        7|      55|       15|     AS| N402AS|    99|   SEA| ANC|     190|    1448|  22|    22|3.1666666666666665|\n",
            "|2014|   11| 15|    1034|       -6|    1414|      -26|     AS| N589AS|   794|   SEA| ABQ|     139|    1180|  10|    34| 2.316666666666667|\n",
            "|2014|   10| 20|    1328|       -1|    1949|        4|     UA| N68805|  1212|   SEA| IAH|     228|    1874|  13|    28|               3.8|\n",
            "|2014|   12| 16|    1500|        0|    1906|       19|     US| N662AW|   500|   SEA| PHX|     151|    1107|  15|     0|2.5166666666666666|\n",
            "|2014|   11| 19|    1319|       -6|    1821|      -14|     DL| N309US|  2164|   PDX| MSP|     169|    1426|  13|    19| 2.816666666666667|\n",
            "|2014|    5| 21|     515|        0|     757|        0|     US| N172US|   593|   SEA| PHX|     143|    1107|   5|    15|2.3833333333333333|\n",
            "+----+-----+---+--------+---------+--------+---------+-------+-------+------+------+----+--------+--------+----+------+------------------+\n",
            "only showing top 20 rows\n",
            "\n"
          ]
        }
      ]
    },
    {
      "cell_type": "code",
      "source": [
        "# Filter flights with a boolean column\n",
        "long_flights2 = flights.filter(flights.distance > 1000 )\n",
        "long_flights2.show()"
      ],
      "metadata": {
        "execution": {
          "iopub.status.busy": "2022-09-23T19:34:52.864048Z",
          "iopub.execute_input": "2022-09-23T19:34:52.864418Z",
          "iopub.status.idle": "2022-09-23T19:34:53.124354Z",
          "shell.execute_reply.started": "2022-09-23T19:34:52.864390Z",
          "shell.execute_reply": "2022-09-23T19:34:53.123501Z"
        },
        "trusted": true,
        "colab": {
          "base_uri": "https://localhost:8080/"
        },
        "id": "PFLv1HP0bw0u",
        "outputId": "ee829476-92d6-48c8-ed06-d3d6c46779ea"
      },
      "execution_count": 16,
      "outputs": [
        {
          "output_type": "stream",
          "name": "stdout",
          "text": [
            "+----+-----+---+--------+---------+--------+---------+-------+-------+------+------+----+--------+--------+----+------+------------------+\n",
            "|year|month|day|dep_time|dep_delay|arr_time|arr_delay|carrier|tailnum|flight|origin|dest|air_time|distance|hour|minute|      duration_hrs|\n",
            "+----+-----+---+--------+---------+--------+---------+-------+-------+------+------+----+--------+--------+----+------+------------------+\n",
            "|2014|    1| 22|    1040|        5|    1505|        5|     AS| N559AS|   851|   SEA| HNL|     360|    2677|  10|    40|               6.0|\n",
            "|2014|    4| 19|    1236|       -4|    1508|       -7|     AS| N309AS|   490|   SEA| SAN|     135|    1050|  12|    36|              2.25|\n",
            "|2014|   11| 19|    1812|       -3|    2352|       -4|     AS| N564AS|    26|   SEA| ORD|     198|    1721|  18|    12|               3.3|\n",
            "|2014|    8|  3|    1120|        0|    1415|        2|     AS| N305AS|   656|   SEA| PHX|     154|    1107|  11|    20| 2.566666666666667|\n",
            "|2014|   11| 12|    2346|       -4|     217|      -28|     AS| N765AS|   121|   SEA| ANC|     183|    1448|  23|    46|              3.05|\n",
            "|2014|    8| 11|    1017|       -3|    1613|       -7|     WN| N8634A|   827|   SEA| MDW|     216|    1733|  10|    17|               3.6|\n",
            "|2014|    1| 13|    2156|       -9|     607|      -15|     AS| N597AS|    24|   SEA| BOS|     290|    2496|  21|    56| 4.833333333333333|\n",
            "|2014|    9| 26|     610|       -5|    1523|       65|     US| N127UW|   616|   SEA| PHL|     293|    2378|   6|    10| 4.883333333333334|\n",
            "|2014|   12|  4|     954|       -6|    1348|      -17|     HA| N395HA|    29|   SEA| OGG|     333|    2640|   9|    54|              5.55|\n",
            "|2014|    6|  4|    1115|        0|    1346|       -3|     AS| N461AS|   488|   SEA| SAN|     133|    1050|  11|    15| 2.216666666666667|\n",
            "|2014|    6| 26|    2054|       -1|    2318|       -6|     B6| N590JB|   907|   SEA| ANC|     179|    1448|  20|    54|2.9833333333333334|\n",
            "|2014|    6|  7|    1823|       -7|    2112|      -28|     AS| N512AS|   815|   SEA| LIH|     335|    2701|  18|    23| 5.583333333333333|\n",
            "|2014|    4| 30|     801|        1|    1757|       90|     AS| N407AS|    18|   SEA| MCO|     342|    2554|   8|     1|               5.7|\n",
            "|2014|   11| 29|     905|      155|    1655|      170|     DL| N824DN|  1598|   SEA| ATL|     229|    2182|   9|     5| 3.816666666666667|\n",
            "|2014|    6|  2|    2222|        7|      55|       15|     AS| N402AS|    99|   SEA| ANC|     190|    1448|  22|    22|3.1666666666666665|\n",
            "|2014|   11| 15|    1034|       -6|    1414|      -26|     AS| N589AS|   794|   SEA| ABQ|     139|    1180|  10|    34| 2.316666666666667|\n",
            "|2014|   10| 20|    1328|       -1|    1949|        4|     UA| N68805|  1212|   SEA| IAH|     228|    1874|  13|    28|               3.8|\n",
            "|2014|   12| 16|    1500|        0|    1906|       19|     US| N662AW|   500|   SEA| PHX|     151|    1107|  15|     0|2.5166666666666666|\n",
            "|2014|   11| 19|    1319|       -6|    1821|      -14|     DL| N309US|  2164|   PDX| MSP|     169|    1426|  13|    19| 2.816666666666667|\n",
            "|2014|    5| 21|     515|        0|     757|        0|     US| N172US|   593|   SEA| PHX|     143|    1107|   5|    15|2.3833333333333333|\n",
            "+----+-----+---+--------+---------+--------+---------+-------+-------+------+------+----+--------+--------+----+------+------------------+\n",
            "only showing top 20 rows\n",
            "\n"
          ]
        }
      ]
    },
    {
      "cell_type": "code",
      "source": [
        "# Select the first set of columns as a string\n",
        "selected_1 = flights.select('tailnum', 'origin', 'dest')"
      ],
      "metadata": {
        "execution": {
          "iopub.status.busy": "2022-09-23T19:34:53.894444Z",
          "iopub.execute_input": "2022-09-23T19:34:53.894824Z",
          "iopub.status.idle": "2022-09-23T19:34:53.918375Z",
          "shell.execute_reply.started": "2022-09-23T19:34:53.894777Z",
          "shell.execute_reply": "2022-09-23T19:34:53.917446Z"
        },
        "trusted": true,
        "id": "9bx7_E3Vbw0u"
      },
      "execution_count": 17,
      "outputs": []
    },
    {
      "cell_type": "code",
      "source": [
        "# Select the second set of columns usinf df.col_name\n",
        "temp = flights.select(flights.origin, flights.dest, flights.carrier)"
      ],
      "metadata": {
        "execution": {
          "iopub.status.busy": "2022-09-23T19:34:55.086569Z",
          "iopub.execute_input": "2022-09-23T19:34:55.087361Z",
          "iopub.status.idle": "2022-09-23T19:34:55.100721Z",
          "shell.execute_reply.started": "2022-09-23T19:34:55.087327Z",
          "shell.execute_reply": "2022-09-23T19:34:55.099754Z"
        },
        "trusted": true,
        "id": "M47C5KH-bw0v"
      },
      "execution_count": 18,
      "outputs": []
    },
    {
      "cell_type": "code",
      "source": [
        "# Define first filter to only keep flights from SEA to PDX.\n",
        "FilterA = flights.origin == 'SEA'\n",
        "FilterB =flights.dest == 'PDX'"
      ],
      "metadata": {
        "execution": {
          "iopub.status.busy": "2022-09-23T19:34:55.869913Z",
          "iopub.execute_input": "2022-09-23T19:34:55.870280Z",
          "iopub.status.idle": "2022-09-23T19:34:55.877262Z",
          "shell.execute_reply.started": "2022-09-23T19:34:55.870250Z",
          "shell.execute_reply": "2022-09-23T19:34:55.876224Z"
        },
        "trusted": true,
        "id": "OhtLcb1zbw0v"
      },
      "execution_count": 19,
      "outputs": []
    },
    {
      "cell_type": "code",
      "source": [
        "# Filter the data, first by filterA then by filterB\n",
        "selected_2 = temp.filter(FilterA).filter(FilterB)\n",
        "selected_2.show()"
      ],
      "metadata": {
        "execution": {
          "iopub.status.busy": "2022-09-23T19:34:56.575183Z",
          "iopub.execute_input": "2022-09-23T19:34:56.576728Z",
          "iopub.status.idle": "2022-09-23T19:34:56.786715Z",
          "shell.execute_reply.started": "2022-09-23T19:34:56.576663Z",
          "shell.execute_reply": "2022-09-23T19:34:56.785482Z"
        },
        "trusted": true,
        "colab": {
          "base_uri": "https://localhost:8080/"
        },
        "id": "l3hKvVNubw0w",
        "outputId": "28e8aef6-9c30-4b85-ef26-37214d94a790"
      },
      "execution_count": 20,
      "outputs": [
        {
          "output_type": "stream",
          "name": "stdout",
          "text": [
            "+------+----+-------+\n",
            "|origin|dest|carrier|\n",
            "+------+----+-------+\n",
            "|   SEA| PDX|     OO|\n",
            "|   SEA| PDX|     OO|\n",
            "|   SEA| PDX|     OO|\n",
            "|   SEA| PDX|     OO|\n",
            "|   SEA| PDX|     OO|\n",
            "|   SEA| PDX|     AS|\n",
            "|   SEA| PDX|     OO|\n",
            "|   SEA| PDX|     OO|\n",
            "|   SEA| PDX|     OO|\n",
            "|   SEA| PDX|     OO|\n",
            "|   SEA| PDX|     OO|\n",
            "|   SEA| PDX|     OO|\n",
            "|   SEA| PDX|     OO|\n",
            "|   SEA| PDX|     OO|\n",
            "|   SEA| PDX|     AS|\n",
            "|   SEA| PDX|     OO|\n",
            "|   SEA| PDX|     OO|\n",
            "|   SEA| PDX|     OO|\n",
            "|   SEA| PDX|     OO|\n",
            "|   SEA| PDX|     OO|\n",
            "+------+----+-------+\n",
            "only showing top 20 rows\n",
            "\n"
          ]
        }
      ]
    },
    {
      "cell_type": "code",
      "source": [
        "#Create a table of the average speed of each flight both ways.\n",
        "#Calculate average speed by dividing the distance by the air_time (converted to hours).Use the .alias() method name\n",
        "# Define avg_speed\n",
        "avg_speed = (flights.distance/(flights.air_time/60)).alias(\"avg_speed\")\n",
        "speed_1 = flights.select('origin','dest','tailnum', avg_speed)"
      ],
      "metadata": {
        "execution": {
          "iopub.status.busy": "2022-09-23T19:34:57.006620Z",
          "iopub.execute_input": "2022-09-23T19:34:57.007783Z",
          "iopub.status.idle": "2022-09-23T19:34:57.035406Z",
          "shell.execute_reply.started": "2022-09-23T19:34:57.007744Z",
          "shell.execute_reply": "2022-09-23T19:34:57.034046Z"
        },
        "trusted": true,
        "id": "DBbi-CYmbw0w"
      },
      "execution_count": 21,
      "outputs": []
    },
    {
      "cell_type": "code",
      "source": [
        "#Using the Spark DataFrame method .selectExpr()\n",
        "speed_2 =flights.selectExpr('origin','dest','tailnum','distance/(air_time/60) as avg_speed')\n",
        "speed_2.show()"
      ],
      "metadata": {
        "execution": {
          "iopub.status.busy": "2022-09-23T19:34:57.581579Z",
          "iopub.execute_input": "2022-09-23T19:34:57.581987Z",
          "iopub.status.idle": "2022-09-23T19:34:57.760652Z",
          "shell.execute_reply.started": "2022-09-23T19:34:57.581954Z",
          "shell.execute_reply": "2022-09-23T19:34:57.759859Z"
        },
        "trusted": true,
        "colab": {
          "base_uri": "https://localhost:8080/"
        },
        "id": "MhD6-F3Xbw0x",
        "outputId": "520154cf-0993-4792-fdc4-cd5f483cffe7"
      },
      "execution_count": 22,
      "outputs": [
        {
          "output_type": "stream",
          "name": "stdout",
          "text": [
            "+------+----+-------+------------------+\n",
            "|origin|dest|tailnum|         avg_speed|\n",
            "+------+----+-------+------------------+\n",
            "|   SEA| LAX| N846VA| 433.6363636363636|\n",
            "|   SEA| HNL| N559AS| 446.1666666666667|\n",
            "|   SEA| SFO| N847VA|367.02702702702703|\n",
            "|   PDX| SJC| N360SW| 411.3253012048193|\n",
            "|   SEA| BUR| N612AS| 442.6771653543307|\n",
            "|   PDX| DEN| N646SW|491.40495867768595|\n",
            "|   PDX| OAK| N422WN|             362.0|\n",
            "|   SEA| SFO| N361VA| 415.7142857142857|\n",
            "|   SEA| SAN| N309AS| 466.6666666666667|\n",
            "|   SEA| ORD| N564AS| 521.5151515151515|\n",
            "|   SEA| LAX| N323AS| 440.3076923076923|\n",
            "|   SEA| PHX| N305AS|431.29870129870125|\n",
            "|   SEA| LAS| N433AS| 409.6062992125984|\n",
            "|   SEA| ANC| N765AS|474.75409836065575|\n",
            "|   SEA| SFO| N713AS| 315.8139534883721|\n",
            "|   PDX| SFO| N27205| 366.6666666666667|\n",
            "|   SEA| SMF| N626AS|477.63157894736844|\n",
            "|   SEA| MDW| N8634A|481.38888888888886|\n",
            "|   SEA| BOS| N597AS| 516.4137931034483|\n",
            "|   PDX| BUR| N215AG| 441.6216216216216|\n",
            "+------+----+-------+------------------+\n",
            "only showing top 20 rows\n",
            "\n"
          ]
        }
      ]
    },
    {
      "cell_type": "code",
      "source": [
        "flights.describe()"
      ],
      "metadata": {
        "execution": {
          "iopub.status.busy": "2022-09-23T19:34:58.201260Z",
          "iopub.execute_input": "2022-09-23T19:34:58.201603Z",
          "iopub.status.idle": "2022-09-23T19:35:01.254691Z",
          "shell.execute_reply.started": "2022-09-23T19:34:58.201576Z",
          "shell.execute_reply": "2022-09-23T19:35:01.253853Z"
        },
        "trusted": true,
        "colab": {
          "base_uri": "https://localhost:8080/"
        },
        "id": "NXpAlD3Zbw0y",
        "outputId": "cabe2a61-9203-4896-9adf-81918aa2bc08"
      },
      "execution_count": 23,
      "outputs": [
        {
          "output_type": "execute_result",
          "data": {
            "text/plain": [
              "DataFrame[summary: string, year: string, month: string, day: string, dep_time: string, dep_delay: string, arr_time: string, arr_delay: string, carrier: string, tailnum: string, flight: string, origin: string, dest: string, air_time: string, distance: string, hour: string, minute: string, duration_hrs: string]"
            ]
          },
          "metadata": {},
          "execution_count": 23
        }
      ]
    },
    {
      "cell_type": "code",
      "source": [
        "#arr_time: string and distance: string, so to find min() and max() we need to convert this float\n",
        "flights = flights.withColumn('distance', flights.distance.cast('float'))\n",
        "flights = flights.withColumn('air_time', flights.air_time.cast('float'))\n",
        "\n",
        "flights.describe('air_time', 'distance').show()"
      ],
      "metadata": {
        "execution": {
          "iopub.status.busy": "2022-09-23T19:35:01.256182Z",
          "iopub.execute_input": "2022-09-23T19:35:01.256862Z",
          "iopub.status.idle": "2022-09-23T19:35:01.661120Z",
          "shell.execute_reply.started": "2022-09-23T19:35:01.256828Z",
          "shell.execute_reply": "2022-09-23T19:35:01.660009Z"
        },
        "trusted": true,
        "colab": {
          "base_uri": "https://localhost:8080/"
        },
        "id": "uEmnaNl_bw0y",
        "outputId": "856440fd-d72c-4cca-9f52-d9f04540f2d7"
      },
      "execution_count": 24,
      "outputs": [
        {
          "output_type": "stream",
          "name": "stdout",
          "text": [
            "+-------+------------------+-----------------+\n",
            "|summary|          air_time|         distance|\n",
            "+-------+------------------+-----------------+\n",
            "|  count|              9925|            10000|\n",
            "|   mean|152.88423173803525|        1208.1516|\n",
            "| stddev|  72.8656286392139|656.8599023464376|\n",
            "|    min|              20.0|             93.0|\n",
            "|    max|             409.0|           2724.0|\n",
            "+-------+------------------+-----------------+\n",
            "\n"
          ]
        }
      ]
    },
    {
      "cell_type": "code",
      "source": [
        "#Find the length of the shortest (in terms of distance) flight that left PDX\n",
        "flights.filter(flights.origin =='PDX').groupBy().min('distance').show()"
      ],
      "metadata": {
        "execution": {
          "iopub.status.busy": "2022-09-23T19:35:01.662302Z",
          "iopub.execute_input": "2022-09-23T19:35:01.662674Z",
          "iopub.status.idle": "2022-09-23T19:35:01.996226Z",
          "shell.execute_reply.started": "2022-09-23T19:35:01.662638Z",
          "shell.execute_reply": "2022-09-23T19:35:01.995182Z"
        },
        "trusted": true,
        "colab": {
          "base_uri": "https://localhost:8080/"
        },
        "id": "wYnyvba2bw0z",
        "outputId": "948ddf42-a945-46de-86db-517d72eae0bd"
      },
      "execution_count": 25,
      "outputs": [
        {
          "output_type": "stream",
          "name": "stdout",
          "text": [
            "+-------------+\n",
            "|min(distance)|\n",
            "+-------------+\n",
            "|        106.0|\n",
            "+-------------+\n",
            "\n"
          ]
        }
      ]
    },
    {
      "cell_type": "code",
      "source": [
        "#Find the length of the longest (in terms of time) flight that left SEA\n",
        "flights.filter(flights.origin == 'SEA').groupBy().max('air_time').show()"
      ],
      "metadata": {
        "execution": {
          "iopub.status.busy": "2022-09-23T19:35:01.997942Z",
          "iopub.execute_input": "2022-09-23T19:35:01.998236Z",
          "iopub.status.idle": "2022-09-23T19:35:02.207712Z",
          "shell.execute_reply.started": "2022-09-23T19:35:01.998206Z",
          "shell.execute_reply": "2022-09-23T19:35:02.206633Z"
        },
        "trusted": true,
        "colab": {
          "base_uri": "https://localhost:8080/"
        },
        "id": "1s6N-nm3bw0z",
        "outputId": "3ce7dd8f-12a5-4151-8b88-b1d16d7d7c7a"
      },
      "execution_count": 26,
      "outputs": [
        {
          "output_type": "stream",
          "name": "stdout",
          "text": [
            "+-------------+\n",
            "|max(air_time)|\n",
            "+-------------+\n",
            "|        409.0|\n",
            "+-------------+\n",
            "\n"
          ]
        }
      ]
    },
    {
      "cell_type": "code",
      "source": [
        "#get the average air time of Delta Airlines flights  that left SEA.\n",
        "flights.filter(flights.carrier == 'DL').filter(flights.origin == 'SEA').groupBy().avg('air_time').show()"
      ],
      "metadata": {
        "execution": {
          "iopub.status.busy": "2022-09-23T19:35:02.208706Z",
          "iopub.execute_input": "2022-09-23T19:35:02.208994Z",
          "iopub.status.idle": "2022-09-23T19:35:02.424965Z",
          "shell.execute_reply.started": "2022-09-23T19:35:02.208963Z",
          "shell.execute_reply": "2022-09-23T19:35:02.424048Z"
        },
        "trusted": true,
        "colab": {
          "base_uri": "https://localhost:8080/"
        },
        "id": "yOk7zGrPbw00",
        "outputId": "dd2a79a8-a48f-4c96-a5c9-87553fc13c1e"
      },
      "execution_count": 27,
      "outputs": [
        {
          "output_type": "stream",
          "name": "stdout",
          "text": [
            "+------------------+\n",
            "|     avg(air_time)|\n",
            "+------------------+\n",
            "|188.20689655172413|\n",
            "+------------------+\n",
            "\n"
          ]
        }
      ]
    },
    {
      "cell_type": "code",
      "source": [
        "#get the total number of hours all planes in this dataset spent in the air by creating a column called duration_hrs\n",
        "flights.withColumn('duration_hrs', flights.air_time/60).groupBy().sum('duration_hrs').show()"
      ],
      "metadata": {
        "execution": {
          "iopub.status.busy": "2022-09-23T19:35:02.426019Z",
          "iopub.execute_input": "2022-09-23T19:35:02.426328Z",
          "iopub.status.idle": "2022-09-23T19:35:02.625584Z",
          "shell.execute_reply.started": "2022-09-23T19:35:02.426296Z",
          "shell.execute_reply": "2022-09-23T19:35:02.624720Z"
        },
        "trusted": true,
        "colab": {
          "base_uri": "https://localhost:8080/"
        },
        "id": "ELPvL42Xbw00",
        "outputId": "1db4ec13-bff7-4b64-d7d2-168e3b06d4db"
      },
      "execution_count": 28,
      "outputs": [
        {
          "output_type": "stream",
          "name": "stdout",
          "text": [
            "+------------------+\n",
            "| sum(duration_hrs)|\n",
            "+------------------+\n",
            "|25289.600000000126|\n",
            "+------------------+\n",
            "\n"
          ]
        }
      ]
    },
    {
      "cell_type": "code",
      "source": [
        "#Group by tailnum column\n",
        "by_plane = flights.groupBy('tailnum')"
      ],
      "metadata": {
        "execution": {
          "iopub.status.busy": "2022-09-23T19:35:02.627165Z",
          "iopub.execute_input": "2022-09-23T19:35:02.627477Z",
          "iopub.status.idle": "2022-09-23T19:35:02.638711Z",
          "shell.execute_reply.started": "2022-09-23T19:35:02.627448Z",
          "shell.execute_reply": "2022-09-23T19:35:02.637624Z"
        },
        "trusted": true,
        "id": "r9Ls6jjwbw01"
      },
      "execution_count": 29,
      "outputs": []
    },
    {
      "cell_type": "code",
      "source": [
        "#Use the .count() method with no arguments to count the number of flights each plane made\n",
        "by_plane.count().show()"
      ],
      "metadata": {
        "execution": {
          "iopub.status.busy": "2022-09-23T19:35:02.795730Z",
          "iopub.execute_input": "2022-09-23T19:35:02.796527Z",
          "iopub.status.idle": "2022-09-23T19:35:03.403972Z",
          "shell.execute_reply.started": "2022-09-23T19:35:02.796478Z",
          "shell.execute_reply": "2022-09-23T19:35:03.403126Z"
        },
        "trusted": true,
        "colab": {
          "base_uri": "https://localhost:8080/"
        },
        "id": "k5GtA2mKbw01",
        "outputId": "01b57344-0756-42db-dee1-6ec3daecb238"
      },
      "execution_count": 30,
      "outputs": [
        {
          "output_type": "stream",
          "name": "stdout",
          "text": [
            "+-------+-----+\n",
            "|tailnum|count|\n",
            "+-------+-----+\n",
            "| N442AS|   38|\n",
            "| N102UW|    2|\n",
            "| N36472|    4|\n",
            "| N38451|    4|\n",
            "| N73283|    4|\n",
            "| N513UA|    2|\n",
            "| N954WN|    5|\n",
            "| N388DA|    3|\n",
            "| N567AA|    1|\n",
            "| N516UA|    2|\n",
            "| N927DN|    1|\n",
            "| N8322X|    1|\n",
            "| N466SW|    1|\n",
            "|  N6700|    1|\n",
            "| N607AS|   45|\n",
            "| N622SW|    4|\n",
            "| N584AS|   31|\n",
            "| N914WN|    4|\n",
            "| N654AW|    2|\n",
            "| N336NW|    1|\n",
            "+-------+-----+\n",
            "only showing top 20 rows\n",
            "\n"
          ]
        }
      ]
    },
    {
      "cell_type": "code",
      "source": [
        "#group by origin column\n",
        "by_origin = flights.groupBy('origin')"
      ],
      "metadata": {
        "execution": {
          "iopub.status.busy": "2022-09-23T19:35:03.712958Z",
          "iopub.execute_input": "2022-09-23T19:35:03.713336Z",
          "iopub.status.idle": "2022-09-23T19:35:03.726597Z",
          "shell.execute_reply.started": "2022-09-23T19:35:03.713307Z",
          "shell.execute_reply": "2022-09-23T19:35:03.725288Z"
        },
        "trusted": true,
        "id": "3rJ0NH6-bw02"
      },
      "execution_count": 31,
      "outputs": []
    },
    {
      "cell_type": "code",
      "source": [
        "#Find the .avg() of the air_time column to find average duration of flights from PDX and SEA\n",
        "by_origin.avg('air_time').show()"
      ],
      "metadata": {
        "execution": {
          "iopub.status.busy": "2022-09-23T19:35:04.279972Z",
          "iopub.execute_input": "2022-09-23T19:35:04.280375Z",
          "iopub.status.idle": "2022-09-23T19:35:04.577760Z",
          "shell.execute_reply.started": "2022-09-23T19:35:04.280341Z",
          "shell.execute_reply": "2022-09-23T19:35:04.576772Z"
        },
        "trusted": true,
        "colab": {
          "base_uri": "https://localhost:8080/"
        },
        "id": "FZkp90EBbw03",
        "outputId": "07431b2f-ce22-414d-bab8-5013c27dd5f2"
      },
      "execution_count": 32,
      "outputs": [
        {
          "output_type": "stream",
          "name": "stdout",
          "text": [
            "+------+------------------+\n",
            "|origin|     avg(air_time)|\n",
            "+------+------------------+\n",
            "|   SEA| 160.4361496051259|\n",
            "|   PDX|137.11543248288737|\n",
            "+------+------------------+\n",
            "\n"
          ]
        }
      ]
    },
    {
      "cell_type": "code",
      "source": [
        "# Import pyspark.sql.functions as F\n",
        "import pyspark.sql.functions as F\n",
        "\n",
        "#convert to dep_delay to numeric column\n",
        "flights = flights.withColumn('dep_delay', flights.dep_delay.cast('float'))\n",
        "\n",
        "# Group by month and dest\n",
        "by_month_dest = flights.groupBy('month', 'dest')"
      ],
      "metadata": {
        "execution": {
          "iopub.status.busy": "2022-09-23T19:35:04.757216Z",
          "iopub.execute_input": "2022-09-23T19:35:04.757590Z",
          "iopub.status.idle": "2022-09-23T19:35:04.780920Z",
          "shell.execute_reply.started": "2022-09-23T19:35:04.757559Z",
          "shell.execute_reply": "2022-09-23T19:35:04.779569Z"
        },
        "trusted": true,
        "id": "ytOqsysRbw03"
      },
      "execution_count": 33,
      "outputs": []
    },
    {
      "cell_type": "code",
      "source": [
        "# Average departure delay by month and destination\n",
        "by_month_dest.avg('dep_delay').show()"
      ],
      "metadata": {
        "execution": {
          "iopub.status.busy": "2022-09-23T19:35:05.848591Z",
          "iopub.execute_input": "2022-09-23T19:35:05.848970Z",
          "iopub.status.idle": "2022-09-23T19:35:06.184523Z",
          "shell.execute_reply.started": "2022-09-23T19:35:05.848941Z",
          "shell.execute_reply": "2022-09-23T19:35:06.183435Z"
        },
        "trusted": true,
        "colab": {
          "base_uri": "https://localhost:8080/"
        },
        "id": "gJu9xxk4bw04",
        "outputId": "cc3bd786-cac8-4ed0-aa2c-dfd93ca04b60"
      },
      "execution_count": 34,
      "outputs": [
        {
          "output_type": "stream",
          "name": "stdout",
          "text": [
            "+-----+----+--------------------+\n",
            "|month|dest|      avg(dep_delay)|\n",
            "+-----+----+--------------------+\n",
            "|   11| TUS| -2.3333333333333335|\n",
            "|   11| ANC|   7.529411764705882|\n",
            "|    1| BUR|               -1.45|\n",
            "|    1| PDX| -5.6923076923076925|\n",
            "|    6| SBA|                -2.5|\n",
            "|    5| LAX|-0.15789473684210525|\n",
            "|   10| DTW|                 2.6|\n",
            "|    6| SIT|                -1.0|\n",
            "|   10| DFW|  18.176470588235293|\n",
            "|    3| FAI|                -2.2|\n",
            "|   10| SEA|                -0.8|\n",
            "|    2| TUS| -0.6666666666666666|\n",
            "|   12| OGG|  25.181818181818183|\n",
            "|    9| DFW|   4.066666666666666|\n",
            "|    5| EWR|               14.25|\n",
            "|    3| RDM|                -6.2|\n",
            "|    8| DCA|                 2.6|\n",
            "|    7| ATL|   4.675675675675675|\n",
            "|    4| JFK| 0.07142857142857142|\n",
            "|   10| SNA| -1.1333333333333333|\n",
            "+-----+----+--------------------+\n",
            "only showing top 20 rows\n",
            "\n"
          ]
        }
      ]
    },
    {
      "cell_type": "code",
      "source": [
        "airports.show()"
      ],
      "metadata": {
        "execution": {
          "iopub.status.busy": "2022-09-23T19:35:06.512761Z",
          "iopub.execute_input": "2022-09-23T19:35:06.513171Z",
          "iopub.status.idle": "2022-09-23T19:35:06.628304Z",
          "shell.execute_reply.started": "2022-09-23T19:35:06.513137Z",
          "shell.execute_reply": "2022-09-23T19:35:06.626904Z"
        },
        "trusted": true,
        "colab": {
          "base_uri": "https://localhost:8080/"
        },
        "id": "nER65iU9bw05",
        "outputId": "37d94b2e-adc9-4e4b-8789-c8eb20d6a518"
      },
      "execution_count": 35,
      "outputs": [
        {
          "output_type": "stream",
          "name": "stdout",
          "text": [
            "+---+--------------------+----------------+-----------------+----+---+---+\n",
            "|faa|                name|             lat|              lon| alt| tz|dst|\n",
            "+---+--------------------+----------------+-----------------+----+---+---+\n",
            "|04G|   Lansdowne Airport|      41.1304722|      -80.6195833|1044| -5|  A|\n",
            "|06A|Moton Field Munic...|      32.4605722|      -85.6800278| 264| -5|  A|\n",
            "|06C| Schaumburg Regional|      41.9893408|      -88.1012428| 801| -6|  A|\n",
            "|06N|     Randall Airport|       41.431912|      -74.3915611| 523| -5|  A|\n",
            "|09J|Jekyll Island Air...|      31.0744722|      -81.4277778|  11| -4|  A|\n",
            "|0A9|Elizabethton Muni...|      36.3712222|      -82.1734167|1593| -4|  A|\n",
            "|0G6|Williams County A...|      41.4673056|      -84.5067778| 730| -5|  A|\n",
            "|0G7|Finger Lakes Regi...|      42.8835647|      -76.7812318| 492| -5|  A|\n",
            "|0P2|Shoestring Aviati...|      39.7948244|      -76.6471914|1000| -5|  U|\n",
            "|0S9|Jefferson County ...|      48.0538086|     -122.8106436| 108| -8|  A|\n",
            "|0W3|Harford County Ai...|      39.5668378|      -76.2024028| 409| -5|  A|\n",
            "|10C|  Galt Field Airport|      42.4028889|      -88.3751111| 875| -6|  U|\n",
            "|17G|Port Bucyrus-Craw...|      40.7815556|      -82.9748056|1003| -5|  A|\n",
            "|19A|Jackson County Ai...|      34.1758638|      -83.5615972| 951| -4|  U|\n",
            "|1A3|Martin Campbell F...|      35.0158056|      -84.3468333|1789| -4|  A|\n",
            "|1B9| Mansfield Municipal|      42.0001331|      -71.1967714| 122| -5|  A|\n",
            "|1C9|Frazier Lake Airpark|54.0133333333333|-124.768333333333| 152| -8|  A|\n",
            "|1CS|Clow Internationa...|      41.6959744|      -88.1292306| 670| -6|  U|\n",
            "|1G3|  Kent State Airport|      41.1513889|      -81.4151111|1134| -4|  A|\n",
            "|1OH|     Fortman Airport|      40.5553253|      -84.3866186| 885| -5|  U|\n",
            "+---+--------------------+----------------+-----------------+----+---+---+\n",
            "only showing top 20 rows\n",
            "\n"
          ]
        }
      ]
    },
    {
      "cell_type": "code",
      "source": [
        "# Rename the faa column\n",
        "airports = airports.withColumnRenamed('faa','dest')"
      ],
      "metadata": {
        "execution": {
          "iopub.status.busy": "2022-09-23T19:35:07.417253Z",
          "iopub.execute_input": "2022-09-23T19:35:07.417613Z",
          "iopub.status.idle": "2022-09-23T19:35:07.427933Z",
          "shell.execute_reply.started": "2022-09-23T19:35:07.417584Z",
          "shell.execute_reply": "2022-09-23T19:35:07.426873Z"
        },
        "trusted": true,
        "id": "HEGX5dBsbw05"
      },
      "execution_count": 36,
      "outputs": []
    },
    {
      "cell_type": "code",
      "source": [
        "# Join the DataFrames\n",
        "flights_with_airports= flights.join(airports, on='dest', how='leftouter')\n",
        "flights_with_airports.show()"
      ],
      "metadata": {
        "execution": {
          "iopub.status.busy": "2022-09-23T19:35:08.473864Z",
          "iopub.execute_input": "2022-09-23T19:35:08.474529Z",
          "iopub.status.idle": "2022-09-23T19:35:08.876976Z",
          "shell.execute_reply.started": "2022-09-23T19:35:08.474490Z",
          "shell.execute_reply": "2022-09-23T19:35:08.876058Z"
        },
        "trusted": true,
        "colab": {
          "base_uri": "https://localhost:8080/"
        },
        "id": "gn5GWk9Dbw06",
        "outputId": "dcda9196-2c20-43f1-ac7f-c98c371fd1f9"
      },
      "execution_count": 37,
      "outputs": [
        {
          "output_type": "stream",
          "name": "stdout",
          "text": [
            "+----+----+-----+---+--------+---------+--------+---------+-------+-------+------+------+--------+--------+----+------+------------------+--------------------+---------+-----------+----+---+---+\n",
            "|dest|year|month|day|dep_time|dep_delay|arr_time|arr_delay|carrier|tailnum|flight|origin|air_time|distance|hour|minute|      duration_hrs|                name|      lat|        lon| alt| tz|dst|\n",
            "+----+----+-----+---+--------+---------+--------+---------+-------+-------+------+------+--------+--------+----+------+------------------+--------------------+---------+-----------+----+---+---+\n",
            "| LAX|2014|   12|  8|     658|     -7.0|     935|       -5|     VX| N846VA|  1780|   SEA|   132.0|   954.0|   6|    58|               2.2|    Los Angeles Intl|33.942536|-118.408075| 126| -8|  A|\n",
            "| HNL|2014|    1| 22|    1040|      5.0|    1505|        5|     AS| N559AS|   851|   SEA|   360.0|  2677.0|  10|    40|               6.0|       Honolulu Intl|21.318681|-157.922428|  13|-10|  N|\n",
            "| SFO|2014|    3|  9|    1443|     -2.0|    1652|        2|     VX| N847VA|   755|   SEA|   111.0|   679.0|  14|    43|              1.85|  San Francisco Intl|37.618972|-122.374889|  13| -8|  A|\n",
            "| SJC|2014|    4|  9|    1705|     45.0|    1839|       34|     WN| N360SW|   344|   PDX|    83.0|   569.0|  17|     5|1.3833333333333333|Norman Y Mineta S...|  37.3626|-121.929022|  62| -8|  A|\n",
            "| BUR|2014|    3|  9|     754|     -1.0|    1015|        1|     AS| N612AS|   522|   SEA|   127.0|   937.0|   7|    54|2.1166666666666667|            Bob Hope|34.200667|-118.358667| 778| -8|  A|\n",
            "| DEN|2014|    1| 15|    1037|      7.0|    1352|        2|     WN| N646SW|    48|   PDX|   121.0|   991.0|  10|    37|2.0166666666666666|         Denver Intl|39.861656|-104.673178|5431| -7|  A|\n",
            "| OAK|2014|    7|  2|     847|     42.0|    1041|       51|     WN| N422WN|  1520|   PDX|    90.0|   543.0|   8|    47|               1.5|Metropolitan Oakl...|37.721278|-122.220722|   9| -8|  A|\n",
            "| SFO|2014|    5| 12|    1655|     -5.0|    1842|      -18|     VX| N361VA|   755|   SEA|    98.0|   679.0|  16|    55|1.6333333333333333|  San Francisco Intl|37.618972|-122.374889|  13| -8|  A|\n",
            "| SAN|2014|    4| 19|    1236|     -4.0|    1508|       -7|     AS| N309AS|   490|   SEA|   135.0|  1050.0|  12|    36|              2.25|      San Diego Intl|32.733556|-117.189667|  17| -8|  A|\n",
            "| ORD|2014|   11| 19|    1812|     -3.0|    2352|       -4|     AS| N564AS|    26|   SEA|   198.0|  1721.0|  18|    12|               3.3|  Chicago Ohare Intl|41.978603| -87.904842| 668| -6|  A|\n",
            "| LAX|2014|   11|  8|    1653|     -2.0|    1924|       -1|     AS| N323AS|   448|   SEA|   130.0|   954.0|  16|    53|2.1666666666666665|    Los Angeles Intl|33.942536|-118.408075| 126| -8|  A|\n",
            "| PHX|2014|    8|  3|    1120|      0.0|    1415|        2|     AS| N305AS|   656|   SEA|   154.0|  1107.0|  11|    20| 2.566666666666667|Phoenix Sky Harbo...|33.434278|-112.011583|1135| -7|  N|\n",
            "| LAS|2014|   10| 30|     811|     21.0|    1038|       29|     AS| N433AS|   608|   SEA|   127.0|   867.0|   8|    11|2.1166666666666667|      Mc Carran Intl|36.080056| -115.15225|2141| -8|  A|\n",
            "| ANC|2014|   11| 12|    2346|     -4.0|     217|      -28|     AS| N765AS|   121|   SEA|   183.0|  1448.0|  23|    46|              3.05|Ted Stevens Ancho...|61.174361|-149.996361| 152| -9|  A|\n",
            "| SFO|2014|   10| 31|    1314|     89.0|    1544|      111|     AS| N713AS|   306|   SEA|   129.0|   679.0|  13|    14|              2.15|  San Francisco Intl|37.618972|-122.374889|  13| -8|  A|\n",
            "| SFO|2014|    1| 29|    2009|      3.0|    2159|        9|     UA| N27205|  1458|   PDX|    90.0|   550.0|  20|     9|               1.5|  San Francisco Intl|37.618972|-122.374889|  13| -8|  A|\n",
            "| SMF|2014|   12| 17|    2015|     50.0|    2150|       41|     AS| N626AS|   368|   SEA|    76.0|   605.0|  20|    15|1.2666666666666666|     Sacramento Intl|38.695417|-121.590778|  27| -8|  A|\n",
            "| MDW|2014|    8| 11|    1017|     -3.0|    1613|       -7|     WN| N8634A|   827|   SEA|   216.0|  1733.0|  10|    17|               3.6| Chicago Midway Intl|41.785972| -87.752417| 620| -6|  A|\n",
            "| BOS|2014|    1| 13|    2156|     -9.0|     607|      -15|     AS| N597AS|    24|   SEA|   290.0|  2496.0|  21|    56| 4.833333333333333|General Edward La...|42.364347| -71.005181|  19| -5|  A|\n",
            "| BUR|2014|    6|  5|    1733|    -12.0|    1945|      -10|     OO| N215AG|  3488|   PDX|   111.0|   817.0|  17|    33|              1.85|            Bob Hope|34.200667|-118.358667| 778| -8|  A|\n",
            "+----+----+-----+---+--------+---------+--------+---------+-------+-------+------+------+--------+--------+----+------+------------------+--------------------+---------+-----------+----+---+---+\n",
            "only showing top 20 rows\n",
            "\n"
          ]
        }
      ]
    },
    {
      "cell_type": "code",
      "source": [
        "planes = spark.read.csv('/content/planes.csv', header=True)\n",
        "planes.show()"
      ],
      "metadata": {
        "execution": {
          "iopub.status.busy": "2022-09-23T19:35:15.001235Z",
          "iopub.execute_input": "2022-09-23T19:35:15.001595Z",
          "iopub.status.idle": "2022-09-23T19:35:15.278298Z",
          "shell.execute_reply.started": "2022-09-23T19:35:15.001566Z",
          "shell.execute_reply": "2022-09-23T19:35:15.277373Z"
        },
        "trusted": true,
        "colab": {
          "base_uri": "https://localhost:8080/"
        },
        "id": "FQbIzvJjbw06",
        "outputId": "c4adb03e-2781-42dd-c5bb-d7939afd3cbe"
      },
      "execution_count": 38,
      "outputs": [
        {
          "output_type": "stream",
          "name": "stdout",
          "text": [
            "+-------+----+--------------------+----------------+--------+-------+-----+-----+---------+\n",
            "|tailnum|year|                type|    manufacturer|   model|engines|seats|speed|   engine|\n",
            "+-------+----+--------------------+----------------+--------+-------+-----+-----+---------+\n",
            "| N102UW|1998|Fixed wing multi ...|AIRBUS INDUSTRIE|A320-214|      2|  182|   NA|Turbo-fan|\n",
            "| N103US|1999|Fixed wing multi ...|AIRBUS INDUSTRIE|A320-214|      2|  182|   NA|Turbo-fan|\n",
            "| N104UW|1999|Fixed wing multi ...|AIRBUS INDUSTRIE|A320-214|      2|  182|   NA|Turbo-fan|\n",
            "| N105UW|1999|Fixed wing multi ...|AIRBUS INDUSTRIE|A320-214|      2|  182|   NA|Turbo-fan|\n",
            "| N107US|1999|Fixed wing multi ...|AIRBUS INDUSTRIE|A320-214|      2|  182|   NA|Turbo-fan|\n",
            "| N108UW|1999|Fixed wing multi ...|AIRBUS INDUSTRIE|A320-214|      2|  182|   NA|Turbo-fan|\n",
            "| N109UW|1999|Fixed wing multi ...|AIRBUS INDUSTRIE|A320-214|      2|  182|   NA|Turbo-fan|\n",
            "| N110UW|1999|Fixed wing multi ...|AIRBUS INDUSTRIE|A320-214|      2|  182|   NA|Turbo-fan|\n",
            "| N111US|1999|Fixed wing multi ...|AIRBUS INDUSTRIE|A320-214|      2|  182|   NA|Turbo-fan|\n",
            "| N11206|2000|Fixed wing multi ...|          BOEING| 737-824|      2|  149|   NA|Turbo-fan|\n",
            "| N112US|1999|Fixed wing multi ...|AIRBUS INDUSTRIE|A320-214|      2|  182|   NA|Turbo-fan|\n",
            "| N113UW|1999|Fixed wing multi ...|AIRBUS INDUSTRIE|A320-214|      2|  182|   NA|Turbo-fan|\n",
            "| N114UW|1999|Fixed wing multi ...|AIRBUS INDUSTRIE|A320-214|      2|  182|   NA|Turbo-fan|\n",
            "| N117UW|2000|Fixed wing multi ...|AIRBUS INDUSTRIE|A320-214|      2|  182|   NA|Turbo-fan|\n",
            "| N118US|2000|Fixed wing multi ...|AIRBUS INDUSTRIE|A320-214|      2|  182|   NA|Turbo-fan|\n",
            "| N119US|2000|Fixed wing multi ...|AIRBUS INDUSTRIE|A320-214|      2|  182|   NA|Turbo-fan|\n",
            "| N1200K|1998|Fixed wing multi ...|          BOEING| 767-332|      2|  330|   NA|Turbo-fan|\n",
            "| N1201P|1998|Fixed wing multi ...|          BOEING| 767-332|      2|  330|   NA|Turbo-fan|\n",
            "| N12114|1995|Fixed wing multi ...|          BOEING| 757-224|      2|  178|   NA|Turbo-jet|\n",
            "| N121DE|1987|Fixed wing multi ...|          BOEING| 767-332|      2|  330|   NA|Turbo-fan|\n",
            "+-------+----+--------------------+----------------+--------+-------+-----+-----+---------+\n",
            "only showing top 20 rows\n",
            "\n"
          ]
        }
      ]
    },
    {
      "cell_type": "code",
      "source": [
        "# Rename year column on panes to avoid duplicate column name\n",
        "planes = planes.withColumnRenamed('year', 'plane_year')"
      ],
      "metadata": {
        "execution": {
          "iopub.status.busy": "2022-09-23T19:35:15.973259Z",
          "iopub.execute_input": "2022-09-23T19:35:15.973626Z",
          "iopub.status.idle": "2022-09-23T19:35:15.982033Z",
          "shell.execute_reply.started": "2022-09-23T19:35:15.973597Z",
          "shell.execute_reply": "2022-09-23T19:35:15.981108Z"
        },
        "trusted": true,
        "id": "xNVkcIG3bw07"
      },
      "execution_count": 39,
      "outputs": []
    },
    {
      "cell_type": "code",
      "source": [
        "#join the flights and plane table use key as tailnum column\n",
        "model_data = flights.join(planes, on='tailnum', how='leftouter')\n",
        "model_data.show()"
      ],
      "metadata": {
        "execution": {
          "iopub.status.busy": "2022-09-23T19:35:16.826446Z",
          "iopub.execute_input": "2022-09-23T19:35:16.826903Z",
          "iopub.status.idle": "2022-09-23T19:35:17.211664Z",
          "shell.execute_reply.started": "2022-09-23T19:35:16.826873Z",
          "shell.execute_reply": "2022-09-23T19:35:17.210952Z"
        },
        "trusted": true,
        "colab": {
          "base_uri": "https://localhost:8080/"
        },
        "id": "Io2WwoTXbw1A",
        "outputId": "3eb0f522-700e-48f6-868a-a739aba69e52"
      },
      "execution_count": 40,
      "outputs": [
        {
          "output_type": "stream",
          "name": "stdout",
          "text": [
            "+-------+----+-----+---+--------+---------+--------+---------+-------+------+------+----+--------+--------+----+------+------------------+----------+--------------------+--------------+-----------+-------+-----+-----+---------+\n",
            "|tailnum|year|month|day|dep_time|dep_delay|arr_time|arr_delay|carrier|flight|origin|dest|air_time|distance|hour|minute|      duration_hrs|plane_year|                type|  manufacturer|      model|engines|seats|speed|   engine|\n",
            "+-------+----+-----+---+--------+---------+--------+---------+-------+------+------+----+--------+--------+----+------+------------------+----------+--------------------+--------------+-----------+-------+-----+-----+---------+\n",
            "| N846VA|2014|   12|  8|     658|     -7.0|     935|       -5|     VX|  1780|   SEA| LAX|   132.0|   954.0|   6|    58|               2.2|      2011|Fixed wing multi ...|        AIRBUS|   A320-214|      2|  182|   NA|Turbo-fan|\n",
            "| N559AS|2014|    1| 22|    1040|      5.0|    1505|        5|     AS|   851|   SEA| HNL|   360.0|  2677.0|  10|    40|               6.0|      2006|Fixed wing multi ...|        BOEING|    737-890|      2|  149|   NA|Turbo-fan|\n",
            "| N847VA|2014|    3|  9|    1443|     -2.0|    1652|        2|     VX|   755|   SEA| SFO|   111.0|   679.0|  14|    43|              1.85|      2011|Fixed wing multi ...|        AIRBUS|   A320-214|      2|  182|   NA|Turbo-fan|\n",
            "| N360SW|2014|    4|  9|    1705|     45.0|    1839|       34|     WN|   344|   PDX| SJC|    83.0|   569.0|  17|     5|1.3833333333333333|      1992|Fixed wing multi ...|        BOEING|    737-3H4|      2|  149|   NA|Turbo-fan|\n",
            "| N612AS|2014|    3|  9|     754|     -1.0|    1015|        1|     AS|   522|   SEA| BUR|   127.0|   937.0|   7|    54|2.1166666666666667|      1999|Fixed wing multi ...|        BOEING|    737-790|      2|  151|   NA|Turbo-jet|\n",
            "| N646SW|2014|    1| 15|    1037|      7.0|    1352|        2|     WN|    48|   PDX| DEN|   121.0|   991.0|  10|    37|2.0166666666666666|      1997|Fixed wing multi ...|        BOEING|    737-3H4|      2|  149|   NA|Turbo-fan|\n",
            "| N422WN|2014|    7|  2|     847|     42.0|    1041|       51|     WN|  1520|   PDX| OAK|    90.0|   543.0|   8|    47|               1.5|      2002|Fixed wing multi ...|        BOEING|    737-7H4|      2|  140|   NA|Turbo-fan|\n",
            "| N361VA|2014|    5| 12|    1655|     -5.0|    1842|      -18|     VX|   755|   SEA| SFO|    98.0|   679.0|  16|    55|1.6333333333333333|      2013|Fixed wing multi ...|        AIRBUS|   A320-214|      2|  182|   NA|Turbo-fan|\n",
            "| N309AS|2014|    4| 19|    1236|     -4.0|    1508|       -7|     AS|   490|   SEA| SAN|   135.0|  1050.0|  12|    36|              2.25|      2001|Fixed wing multi ...|        BOEING|    737-990|      2|  149|   NA|Turbo-jet|\n",
            "| N564AS|2014|   11| 19|    1812|     -3.0|    2352|       -4|     AS|    26|   SEA| ORD|   198.0|  1721.0|  18|    12|               3.3|      2006|Fixed wing multi ...|        BOEING|    737-890|      2|  149|   NA|Turbo-fan|\n",
            "| N323AS|2014|   11|  8|    1653|     -2.0|    1924|       -1|     AS|   448|   SEA| LAX|   130.0|   954.0|  16|    53|2.1666666666666665|      2004|Fixed wing multi ...|        BOEING|    737-990|      2|  149|   NA|Turbo-jet|\n",
            "| N305AS|2014|    8|  3|    1120|      0.0|    1415|        2|     AS|   656|   SEA| PHX|   154.0|  1107.0|  11|    20| 2.566666666666667|      2001|Fixed wing multi ...|        BOEING|    737-990|      2|  149|   NA|Turbo-jet|\n",
            "| N433AS|2014|   10| 30|     811|     21.0|    1038|       29|     AS|   608|   SEA| LAS|   127.0|   867.0|   8|    11|2.1166666666666667|      2013|Fixed wing multi ...|        BOEING|  737-990ER|      2|  222|   NA|Turbo-fan|\n",
            "| N765AS|2014|   11| 12|    2346|     -4.0|     217|      -28|     AS|   121|   SEA| ANC|   183.0|  1448.0|  23|    46|              3.05|      1992|Fixed wing multi ...|        BOEING|    737-4Q8|      2|  149|   NA|Turbo-fan|\n",
            "| N713AS|2014|   10| 31|    1314|     89.0|    1544|      111|     AS|   306|   SEA| SFO|   129.0|   679.0|  13|    14|              2.15|      1999|Fixed wing multi ...|        BOEING|    737-490|      2|  149|   NA|Turbo-jet|\n",
            "| N27205|2014|    1| 29|    2009|      3.0|    2159|        9|     UA|  1458|   PDX| SFO|    90.0|   550.0|  20|     9|               1.5|      2000|Fixed wing multi ...|        BOEING|    737-824|      2|  149|   NA|Turbo-fan|\n",
            "| N626AS|2014|   12| 17|    2015|     50.0|    2150|       41|     AS|   368|   SEA| SMF|    76.0|   605.0|  20|    15|1.2666666666666666|      2001|Fixed wing multi ...|        BOEING|    737-790|      2|  151|   NA|Turbo-jet|\n",
            "| N8634A|2014|    8| 11|    1017|     -3.0|    1613|       -7|     WN|   827|   SEA| MDW|   216.0|  1733.0|  10|    17|               3.6|      2014|Fixed wing multi ...|        BOEING|    737-8H4|      2|  140|   NA|Turbo-fan|\n",
            "| N597AS|2014|    1| 13|    2156|     -9.0|     607|      -15|     AS|    24|   SEA| BOS|   290.0|  2496.0|  21|    56| 4.833333333333333|      2008|Fixed wing multi ...|        BOEING|    737-890|      2|  149|   NA|Turbo-fan|\n",
            "| N215AG|2014|    6|  5|    1733|    -12.0|    1945|      -10|     OO|  3488|   PDX| BUR|   111.0|   817.0|  17|    33|              1.85|      2001|Fixed wing multi ...|BOMBARDIER INC|CL-600-2C10|      2|   80|   NA|Turbo-fan|\n",
            "+-------+----+-----+---+--------+---------+--------+---------+-------+------+------+----+--------+--------+----+------+------------------+----------+--------------------+--------------+-----------+-------+-----+-----+---------+\n",
            "only showing top 20 rows\n",
            "\n"
          ]
        }
      ]
    },
    {
      "cell_type": "code",
      "source": [
        "model_data.describe()"
      ],
      "metadata": {
        "execution": {
          "iopub.status.busy": "2022-09-23T19:35:17.668013Z",
          "iopub.execute_input": "2022-09-23T19:35:17.668385Z",
          "iopub.status.idle": "2022-09-23T19:35:20.933541Z",
          "shell.execute_reply.started": "2022-09-23T19:35:17.668356Z",
          "shell.execute_reply": "2022-09-23T19:35:20.932684Z"
        },
        "trusted": true,
        "colab": {
          "base_uri": "https://localhost:8080/"
        },
        "id": "KxHoqDHDbw1A",
        "outputId": "80f35e75-f879-45ea-ea37-a8fdfe7a682d"
      },
      "execution_count": 41,
      "outputs": [
        {
          "output_type": "execute_result",
          "data": {
            "text/plain": [
              "DataFrame[summary: string, tailnum: string, year: string, month: string, day: string, dep_time: string, dep_delay: string, arr_time: string, arr_delay: string, carrier: string, flight: string, origin: string, dest: string, air_time: string, distance: string, hour: string, minute: string, duration_hrs: string, plane_year: string, type: string, manufacturer: string, model: string, engines: string, seats: string, speed: string, engine: string]"
            ]
          },
          "metadata": {},
          "execution_count": 41
        }
      ]
    },
    {
      "cell_type": "code",
      "source": [
        "model_data = model_data.withColumn('arr_delay', model_data.arr_delay.cast('integer'))\n",
        "model_data = model_data.withColumn('air_time' , model_data.air_time.cast('integer'))\n",
        "model_data = model_data.withColumn('month', model_data.month.cast('integer'))\n",
        "model_data = model_data.withColumn('plane_year', model_data.plane_year.cast('integer'))"
      ],
      "metadata": {
        "execution": {
          "iopub.status.busy": "2022-09-23T19:35:20.934900Z",
          "iopub.execute_input": "2022-09-23T19:35:20.935237Z",
          "iopub.status.idle": "2022-09-23T19:35:20.989598Z",
          "shell.execute_reply.started": "2022-09-23T19:35:20.935203Z",
          "shell.execute_reply": "2022-09-23T19:35:20.988707Z"
        },
        "trusted": true,
        "id": "lU_RxPhjbw1B"
      },
      "execution_count": 42,
      "outputs": []
    },
    {
      "cell_type": "code",
      "source": [
        "model_data.describe('arr_delay', 'air_time','month', 'plane_year').show()"
      ],
      "metadata": {
        "execution": {
          "iopub.status.busy": "2022-09-23T19:35:24.457564Z",
          "iopub.execute_input": "2022-09-23T19:35:24.457990Z",
          "iopub.status.idle": "2022-09-23T19:35:24.938741Z",
          "shell.execute_reply.started": "2022-09-23T19:35:24.457957Z",
          "shell.execute_reply": "2022-09-23T19:35:24.937790Z"
        },
        "trusted": true,
        "colab": {
          "base_uri": "https://localhost:8080/"
        },
        "id": "ICX93_OSbw1C",
        "outputId": "e2b5f161-283d-4031-bd4a-2104f0e8d4ea"
      },
      "execution_count": 43,
      "outputs": [
        {
          "output_type": "stream",
          "name": "stdout",
          "text": [
            "+-------+------------------+------------------+------------------+-----------------+\n",
            "|summary|         arr_delay|          air_time|             month|       plane_year|\n",
            "+-------+------------------+------------------+------------------+-----------------+\n",
            "|  count|              9925|              9925|             10000|             9354|\n",
            "|   mean|2.2530982367758186|152.88423173803525|            6.6438|2001.594398118452|\n",
            "| stddev|31.074918600451877|  72.8656286392139|3.3191600205962097|58.92921992728455|\n",
            "|    min|               -58|                20|                 1|                0|\n",
            "|    max|               900|               409|                12|             2014|\n",
            "+-------+------------------+------------------+------------------+-----------------+\n",
            "\n"
          ]
        }
      ]
    },
    {
      "cell_type": "code",
      "source": [
        "# Create a new column\n",
        "model_data =model_data.withColumn('plane_age', model_data.year - model_data.plane_year)"
      ],
      "metadata": {
        "execution": {
          "iopub.status.busy": "2022-09-23T19:35:24.940221Z",
          "iopub.execute_input": "2022-09-23T19:35:24.940496Z",
          "iopub.status.idle": "2022-09-23T19:35:24.962359Z",
          "shell.execute_reply.started": "2022-09-23T19:35:24.940472Z",
          "shell.execute_reply": "2022-09-23T19:35:24.961178Z"
        },
        "trusted": true,
        "id": "EZm_1dfPbw1C"
      },
      "execution_count": 44,
      "outputs": []
    },
    {
      "cell_type": "code",
      "source": [
        "model_data = model_data.withColumn('is_late', model_data.arr_delay >0)\n",
        "\n",
        "model_data = model_data.withColumn('label', model_data.is_late.cast('integer'))\n",
        "\n",
        "model_data.filter(\"arr_delay is not NULL and dep_delay is not NULL and air_time is not NULL and plane_year is not NULL\")"
      ],
      "metadata": {
        "execution": {
          "iopub.status.busy": "2022-09-23T19:35:25.420957Z",
          "iopub.execute_input": "2022-09-23T19:35:25.421341Z",
          "iopub.status.idle": "2022-09-23T19:35:25.469730Z",
          "shell.execute_reply.started": "2022-09-23T19:35:25.421311Z",
          "shell.execute_reply": "2022-09-23T19:35:25.468788Z"
        },
        "trusted": true,
        "colab": {
          "base_uri": "https://localhost:8080/"
        },
        "id": "FwX4mSz-bw1D",
        "outputId": "acac3839-730e-495f-838c-ef02e56b5d1f"
      },
      "execution_count": 45,
      "outputs": [
        {
          "output_type": "execute_result",
          "data": {
            "text/plain": [
              "DataFrame[tailnum: string, year: string, month: int, day: string, dep_time: string, dep_delay: float, arr_time: string, arr_delay: int, carrier: string, flight: string, origin: string, dest: string, air_time: int, distance: float, hour: string, minute: string, duration_hrs: double, plane_year: int, type: string, manufacturer: string, model: string, engines: string, seats: string, speed: string, engine: string, plane_age: double, is_late: boolean, label: int]"
            ]
          },
          "metadata": {},
          "execution_count": 45
        }
      ]
    },
    {
      "cell_type": "code",
      "source": [
        "from pyspark.ml.feature import StringIndexer, OneHotEncoder"
      ],
      "metadata": {
        "execution": {
          "iopub.status.busy": "2022-09-23T19:35:26.098260Z",
          "iopub.execute_input": "2022-09-23T19:35:26.098664Z",
          "iopub.status.idle": "2022-09-23T19:35:26.374288Z",
          "shell.execute_reply.started": "2022-09-23T19:35:26.098630Z",
          "shell.execute_reply": "2022-09-23T19:35:26.372972Z"
        },
        "trusted": true,
        "id": "X-v03gELbw1D"
      },
      "execution_count": 46,
      "outputs": []
    },
    {
      "cell_type": "code",
      "source": [
        "#Create a StringIndexer\n",
        "carr_indexer = StringIndexer(inputCol='carrier', outputCol='carrier_index')\n",
        "#Create a OneHotEncoder\n",
        "carr_encoder = OneHotEncoder(inputCol='carrier_index', outputCol='carr_fact')"
      ],
      "metadata": {
        "execution": {
          "iopub.status.busy": "2022-09-23T19:35:26.868347Z",
          "iopub.execute_input": "2022-09-23T19:35:26.868953Z",
          "iopub.status.idle": "2022-09-23T19:35:26.908021Z",
          "shell.execute_reply.started": "2022-09-23T19:35:26.868920Z",
          "shell.execute_reply": "2022-09-23T19:35:26.907011Z"
        },
        "trusted": true,
        "id": "8GxmzKyfbw1E"
      },
      "execution_count": 47,
      "outputs": []
    },
    {
      "cell_type": "code",
      "source": [
        "# encode the dest column just like you did above\n",
        "dest_indexer = StringIndexer(inputCol='dest', outputCol='dest_index')\n",
        "dest_encoder = OneHotEncoder(inputCol='dest_index', outputCol='dest_fact')"
      ],
      "metadata": {
        "execution": {
          "iopub.status.busy": "2022-09-23T19:35:27.415767Z",
          "iopub.execute_input": "2022-09-23T19:35:27.416200Z",
          "iopub.status.idle": "2022-09-23T19:35:27.429150Z",
          "shell.execute_reply.started": "2022-09-23T19:35:27.416167Z",
          "shell.execute_reply": "2022-09-23T19:35:27.428035Z"
        },
        "trusted": true,
        "id": "UopLC0c5bw1E"
      },
      "execution_count": 48,
      "outputs": []
    },
    {
      "cell_type": "code",
      "source": [
        "# Assemble a  Vector\n",
        "from pyspark.ml.feature import  VectorAssembler"
      ],
      "metadata": {
        "execution": {
          "iopub.status.busy": "2022-09-23T19:35:28.024775Z",
          "iopub.execute_input": "2022-09-23T19:35:28.025207Z",
          "iopub.status.idle": "2022-09-23T19:35:28.030488Z",
          "shell.execute_reply.started": "2022-09-23T19:35:28.025177Z",
          "shell.execute_reply": "2022-09-23T19:35:28.028938Z"
        },
        "trusted": true,
        "id": "xW85ZIdEbw1F"
      },
      "execution_count": 49,
      "outputs": []
    },
    {
      "cell_type": "code",
      "source": [
        "vec_assembler =VectorAssembler(inputCols=['month', 'air_time','carr_fact','dest_fact','plane_age'],\n",
        "                              outputCol='features',handleInvalid=\"skip\")"
      ],
      "metadata": {
        "execution": {
          "iopub.status.busy": "2022-09-23T19:42:33.027433Z",
          "iopub.execute_input": "2022-09-23T19:42:33.027835Z",
          "iopub.status.idle": "2022-09-23T19:42:33.039754Z",
          "shell.execute_reply.started": "2022-09-23T19:42:33.027781Z",
          "shell.execute_reply": "2022-09-23T19:42:33.038229Z"
        },
        "trusted": true,
        "id": "kFBB74Tbbw1F"
      },
      "execution_count": 50,
      "outputs": []
    },
    {
      "cell_type": "code",
      "source": [
        "# #### Create the pipeline\n",
        "# You're finally ready to create a` Pipeline!` Pipeline is a class in the `pyspark.ml module` that combines all the Estimators and Transformers that you've already created.\n",
        "\n",
        "from pyspark.ml import Pipeline\n",
        "\n",
        "flights_pipe = Pipeline(stages=[dest_indexer, dest_encoder, carr_indexer, carr_encoder, vec_assembler])"
      ],
      "metadata": {
        "execution": {
          "iopub.status.busy": "2022-09-23T19:42:34.103531Z",
          "iopub.execute_input": "2022-09-23T19:42:34.103934Z",
          "iopub.status.idle": "2022-09-23T19:42:34.109812Z",
          "shell.execute_reply.started": "2022-09-23T19:42:34.103900Z",
          "shell.execute_reply": "2022-09-23T19:42:34.108736Z"
        },
        "trusted": true,
        "id": "vP2GiS-abw1G"
      },
      "execution_count": 51,
      "outputs": []
    },
    {
      "cell_type": "code",
      "source": [
        "piped_data =flights_pipe.fit(model_data).transform(model_data)"
      ],
      "metadata": {
        "execution": {
          "iopub.status.busy": "2022-09-23T19:42:34.746844Z",
          "iopub.execute_input": "2022-09-23T19:42:34.747250Z",
          "iopub.status.idle": "2022-09-23T19:42:35.569772Z",
          "shell.execute_reply.started": "2022-09-23T19:42:34.747217Z",
          "shell.execute_reply": "2022-09-23T19:42:35.569024Z"
        },
        "trusted": true,
        "id": "2xC3kpsCbw1H"
      },
      "execution_count": 52,
      "outputs": []
    },
    {
      "cell_type": "code",
      "source": [
        "piped_data.show()"
      ],
      "metadata": {
        "execution": {
          "iopub.status.busy": "2022-09-23T19:42:35.570913Z",
          "iopub.execute_input": "2022-09-23T19:42:35.571187Z",
          "iopub.status.idle": "2022-09-23T19:42:35.852219Z",
          "shell.execute_reply.started": "2022-09-23T19:42:35.571153Z",
          "shell.execute_reply": "2022-09-23T19:42:35.851188Z"
        },
        "trusted": true,
        "colab": {
          "base_uri": "https://localhost:8080/"
        },
        "id": "7MU8-U4qbw1H",
        "outputId": "29056c0a-3216-4829-d72c-45aafb67149f"
      },
      "execution_count": 53,
      "outputs": [
        {
          "output_type": "stream",
          "name": "stdout",
          "text": [
            "+-------+----+-----+---+--------+---------+--------+---------+-------+------+------+----+--------+--------+----+------+------------------+----------+--------------------+--------------+-----------+-------+-----+-----+---------+---------+-------+-----+----------+---------------+-------------+--------------+--------------------+\n",
            "|tailnum|year|month|day|dep_time|dep_delay|arr_time|arr_delay|carrier|flight|origin|dest|air_time|distance|hour|minute|      duration_hrs|plane_year|                type|  manufacturer|      model|engines|seats|speed|   engine|plane_age|is_late|label|dest_index|      dest_fact|carrier_index|     carr_fact|            features|\n",
            "+-------+----+-----+---+--------+---------+--------+---------+-------+------+------+----+--------+--------+----+------+------------------+----------+--------------------+--------------+-----------+-------+-----+-----+---------+---------+-------+-----+----------+---------------+-------------+--------------+--------------------+\n",
            "| N846VA|2014|   12|  8|     658|     -7.0|     935|       -5|     VX|  1780|   SEA| LAX|     132|   954.0|   6|    58|               2.2|      2011|Fixed wing multi ...|        AIRBUS|   A320-214|      2|  182|   NA|Turbo-fan|      3.0|  false|    0|       1.0| (68,[1],[1.0])|          8.0|(10,[8],[1.0])|(81,[0,1,10,13,80...|\n",
            "| N559AS|2014|    1| 22|    1040|      5.0|    1505|        5|     AS|   851|   SEA| HNL|     360|  2677.0|  10|    40|               6.0|      2006|Fixed wing multi ...|        BOEING|    737-890|      2|  149|   NA|Turbo-fan|      8.0|   true|    1|      22.0|(68,[22],[1.0])|          0.0|(10,[0],[1.0])|(81,[0,1,2,34,80]...|\n",
            "| N847VA|2014|    3|  9|    1443|     -2.0|    1652|        2|     VX|   755|   SEA| SFO|     111|   679.0|  14|    43|              1.85|      2011|Fixed wing multi ...|        AIRBUS|   A320-214|      2|  182|   NA|Turbo-fan|      3.0|   true|    1|       0.0| (68,[0],[1.0])|          8.0|(10,[8],[1.0])|(81,[0,1,10,12,80...|\n",
            "| N360SW|2014|    4|  9|    1705|     45.0|    1839|       34|     WN|   344|   PDX| SJC|      83|   569.0|  17|     5|1.3833333333333333|      1992|Fixed wing multi ...|        BOEING|    737-3H4|      2|  149|   NA|Turbo-fan|     22.0|   true|    1|       9.0| (68,[9],[1.0])|          1.0|(10,[1],[1.0])|(81,[0,1,3,21,80]...|\n",
            "| N612AS|2014|    3|  9|     754|     -1.0|    1015|        1|     AS|   522|   SEA| BUR|     127|   937.0|   7|    54|2.1166666666666667|      1999|Fixed wing multi ...|        BOEING|    737-790|      2|  151|   NA|Turbo-jet|     15.0|   true|    1|      23.0|(68,[23],[1.0])|          0.0|(10,[0],[1.0])|(81,[0,1,2,35,80]...|\n",
            "| N646SW|2014|    1| 15|    1037|      7.0|    1352|        2|     WN|    48|   PDX| DEN|     121|   991.0|  10|    37|2.0166666666666666|      1997|Fixed wing multi ...|        BOEING|    737-3H4|      2|  149|   NA|Turbo-fan|     17.0|   true|    1|       2.0| (68,[2],[1.0])|          1.0|(10,[1],[1.0])|(81,[0,1,3,14,80]...|\n",
            "| N422WN|2014|    7|  2|     847|     42.0|    1041|       51|     WN|  1520|   PDX| OAK|      90|   543.0|   8|    47|               1.5|      2002|Fixed wing multi ...|        BOEING|    737-7H4|      2|  140|   NA|Turbo-fan|     12.0|   true|    1|      10.0|(68,[10],[1.0])|          1.0|(10,[1],[1.0])|(81,[0,1,3,22,80]...|\n",
            "| N361VA|2014|    5| 12|    1655|     -5.0|    1842|      -18|     VX|   755|   SEA| SFO|      98|   679.0|  16|    55|1.6333333333333333|      2013|Fixed wing multi ...|        AIRBUS|   A320-214|      2|  182|   NA|Turbo-fan|      1.0|  false|    0|       0.0| (68,[0],[1.0])|          8.0|(10,[8],[1.0])|(81,[0,1,10,12,80...|\n",
            "| N309AS|2014|    4| 19|    1236|     -4.0|    1508|       -7|     AS|   490|   SEA| SAN|     135|  1050.0|  12|    36|              2.25|      2001|Fixed wing multi ...|        BOEING|    737-990|      2|  149|   NA|Turbo-jet|     13.0|  false|    0|      12.0|(68,[12],[1.0])|          0.0|(10,[0],[1.0])|(81,[0,1,2,24,80]...|\n",
            "| N564AS|2014|   11| 19|    1812|     -3.0|    2352|       -4|     AS|    26|   SEA| ORD|     198|  1721.0|  18|    12|               3.3|      2006|Fixed wing multi ...|        BOEING|    737-890|      2|  149|   NA|Turbo-fan|      8.0|  false|    0|       6.0| (68,[6],[1.0])|          0.0|(10,[0],[1.0])|(81,[0,1,2,18,80]...|\n",
            "| N323AS|2014|   11|  8|    1653|     -2.0|    1924|       -1|     AS|   448|   SEA| LAX|     130|   954.0|  16|    53|2.1666666666666665|      2004|Fixed wing multi ...|        BOEING|    737-990|      2|  149|   NA|Turbo-jet|     10.0|  false|    0|       1.0| (68,[1],[1.0])|          0.0|(10,[0],[1.0])|(81,[0,1,2,13,80]...|\n",
            "| N305AS|2014|    8|  3|    1120|      0.0|    1415|        2|     AS|   656|   SEA| PHX|     154|  1107.0|  11|    20| 2.566666666666667|      2001|Fixed wing multi ...|        BOEING|    737-990|      2|  149|   NA|Turbo-jet|     13.0|   true|    1|       3.0| (68,[3],[1.0])|          0.0|(10,[0],[1.0])|(81,[0,1,2,15,80]...|\n",
            "| N433AS|2014|   10| 30|     811|     21.0|    1038|       29|     AS|   608|   SEA| LAS|     127|   867.0|   8|    11|2.1166666666666667|      2013|Fixed wing multi ...|        BOEING|  737-990ER|      2|  222|   NA|Turbo-fan|      1.0|   true|    1|       4.0| (68,[4],[1.0])|          0.0|(10,[0],[1.0])|(81,[0,1,2,16,80]...|\n",
            "| N765AS|2014|   11| 12|    2346|     -4.0|     217|      -28|     AS|   121|   SEA| ANC|     183|  1448.0|  23|    46|              3.05|      1992|Fixed wing multi ...|        BOEING|    737-4Q8|      2|  149|   NA|Turbo-fan|     22.0|  false|    0|       5.0| (68,[5],[1.0])|          0.0|(10,[0],[1.0])|(81,[0,1,2,17,80]...|\n",
            "| N713AS|2014|   10| 31|    1314|     89.0|    1544|      111|     AS|   306|   SEA| SFO|     129|   679.0|  13|    14|              2.15|      1999|Fixed wing multi ...|        BOEING|    737-490|      2|  149|   NA|Turbo-jet|     15.0|   true|    1|       0.0| (68,[0],[1.0])|          0.0|(10,[0],[1.0])|(81,[0,1,2,12,80]...|\n",
            "| N27205|2014|    1| 29|    2009|      3.0|    2159|        9|     UA|  1458|   PDX| SFO|      90|   550.0|  20|     9|               1.5|      2000|Fixed wing multi ...|        BOEING|    737-824|      2|  149|   NA|Turbo-fan|     14.0|   true|    1|       0.0| (68,[0],[1.0])|          4.0|(10,[4],[1.0])|(81,[0,1,6,12,80]...|\n",
            "| N626AS|2014|   12| 17|    2015|     50.0|    2150|       41|     AS|   368|   SEA| SMF|      76|   605.0|  20|    15|1.2666666666666666|      2001|Fixed wing multi ...|        BOEING|    737-790|      2|  151|   NA|Turbo-jet|     13.0|   true|    1|      11.0|(68,[11],[1.0])|          0.0|(10,[0],[1.0])|(81,[0,1,2,23,80]...|\n",
            "| N8634A|2014|    8| 11|    1017|     -3.0|    1613|       -7|     WN|   827|   SEA| MDW|     216|  1733.0|  10|    17|               3.6|      2014|Fixed wing multi ...|        BOEING|    737-8H4|      2|  140|   NA|Turbo-fan|      0.0|  false|    0|      30.0|(68,[30],[1.0])|          1.0|(10,[1],[1.0])|(81,[0,1,3,42],[8...|\n",
            "| N597AS|2014|    1| 13|    2156|     -9.0|     607|      -15|     AS|    24|   SEA| BOS|     290|  2496.0|  21|    56| 4.833333333333333|      2008|Fixed wing multi ...|        BOEING|    737-890|      2|  149|   NA|Turbo-fan|      6.0|  false|    0|      24.0|(68,[24],[1.0])|          0.0|(10,[0],[1.0])|(81,[0,1,2,36,80]...|\n",
            "| N215AG|2014|    6|  5|    1733|    -12.0|    1945|      -10|     OO|  3488|   PDX| BUR|     111|   817.0|  17|    33|              1.85|      2001|Fixed wing multi ...|BOMBARDIER INC|CL-600-2C10|      2|   80|   NA|Turbo-fan|     13.0|  false|    0|      23.0|(68,[23],[1.0])|          2.0|(10,[2],[1.0])|(81,[0,1,4,35,80]...|\n",
            "+-------+----+-----+---+--------+---------+--------+---------+-------+------+------+----+--------+--------+----+------+------------------+----------+--------------------+--------------+-----------+-------+-----+-----+---------+---------+-------+-----+----------+---------------+-------------+--------------+--------------------+\n",
            "only showing top 20 rows\n",
            "\n"
          ]
        }
      ]
    },
    {
      "cell_type": "code",
      "source": [
        "training, test = piped_data.randomSplit([.6, .4])"
      ],
      "metadata": {
        "execution": {
          "iopub.status.busy": "2022-09-23T19:42:35.853440Z",
          "iopub.execute_input": "2022-09-23T19:42:35.853748Z",
          "iopub.status.idle": "2022-09-23T19:42:35.872459Z",
          "shell.execute_reply.started": "2022-09-23T19:42:35.853719Z",
          "shell.execute_reply": "2022-09-23T19:42:35.871322Z"
        },
        "trusted": true,
        "id": "w6zBKDJ_bw1I"
      },
      "execution_count": 54,
      "outputs": []
    },
    {
      "cell_type": "code",
      "source": [
        "from pyspark.ml.classification import LogisticRegression\n",
        "\n",
        "lr = LogisticRegression()"
      ],
      "metadata": {
        "execution": {
          "iopub.status.busy": "2022-09-23T19:42:36.491785Z",
          "iopub.execute_input": "2022-09-23T19:42:36.492164Z",
          "iopub.status.idle": "2022-09-23T19:42:36.503094Z",
          "shell.execute_reply.started": "2022-09-23T19:42:36.492133Z",
          "shell.execute_reply": "2022-09-23T19:42:36.501950Z"
        },
        "trusted": true,
        "id": "6Q8ENIVCbw1J"
      },
      "execution_count": 55,
      "outputs": []
    },
    {
      "cell_type": "code",
      "source": [
        "# #### Create the evaluator\n",
        "# The first thing you need when doing cross validation for model selection is a way to compare different models. Luckily, the pyspark.ml.evaluation submodule has classes for evaluating different kinds of models. Your model is a binary classification model, so you'll be using the `BinaryClassificationEvaluator` from the `pyspark.ml.evaluation` module. This evaluator calculates the area under the ROC. This is a metric that combines the two kinds of errors a binary classifier can make (false positives and false negatives) into a simple number.\n",
        "\n",
        "import pyspark.ml.evaluation as evals\n",
        "\n",
        "evaluator = evals.BinaryClassificationEvaluator(metricName='areaUnderROC')"
      ],
      "metadata": {
        "execution": {
          "iopub.status.busy": "2022-09-23T19:42:37.310209Z",
          "iopub.execute_input": "2022-09-23T19:42:37.310891Z",
          "iopub.status.idle": "2022-09-23T19:42:37.322351Z",
          "shell.execute_reply.started": "2022-09-23T19:42:37.310845Z",
          "shell.execute_reply": "2022-09-23T19:42:37.320876Z"
        },
        "trusted": true,
        "id": "zXsF-8ZObw1J"
      },
      "execution_count": 56,
      "outputs": []
    },
    {
      "cell_type": "code",
      "source": [
        "# Import the tuning submodule\n",
        "import pyspark.ml.tuning as tune\n",
        "\n",
        "# Create the parameter grid\n",
        "grid = tune.ParamGridBuilder()\n",
        "\n",
        "# Add the hyperparameter\n",
        "grid = grid.addGrid(lr.regParam, np.arange(0, .1, .01))\n",
        "grid = grid.addGrid(lr.elasticNetParam, [0,1])\n",
        "\n",
        "# Build the grid\n",
        "grid = grid.build()"
      ],
      "metadata": {
        "execution": {
          "iopub.status.busy": "2022-09-23T19:42:37.862173Z",
          "iopub.execute_input": "2022-09-23T19:42:37.862538Z",
          "iopub.status.idle": "2022-09-23T19:42:37.869944Z",
          "shell.execute_reply.started": "2022-09-23T19:42:37.862509Z",
          "shell.execute_reply": "2022-09-23T19:42:37.868630Z"
        },
        "trusted": true,
        "id": "U34EXWtEbw1K"
      },
      "execution_count": 57,
      "outputs": []
    },
    {
      "cell_type": "code",
      "source": [
        "# Create the CrossValidator\n",
        "cv = tune.CrossValidator(estimator=lr,\n",
        "               estimatorParamMaps=grid,\n",
        "               evaluator=evaluator\n",
        "               )"
      ],
      "metadata": {
        "execution": {
          "iopub.status.busy": "2022-09-23T19:42:39.105787Z",
          "iopub.execute_input": "2022-09-23T19:42:39.106197Z",
          "iopub.status.idle": "2022-09-23T19:42:39.111550Z",
          "shell.execute_reply.started": "2022-09-23T19:42:39.106166Z",
          "shell.execute_reply": "2022-09-23T19:42:39.110506Z"
        },
        "trusted": true,
        "id": "bSl3sVaYbw1L"
      },
      "execution_count": 58,
      "outputs": []
    },
    {
      "cell_type": "code",
      "source": [
        "# Fit cross validation models\n",
        "models = cv.fit(training)"
      ],
      "metadata": {
        "execution": {
          "iopub.status.busy": "2022-09-23T19:42:58.542365Z",
          "iopub.execute_input": "2022-09-23T19:42:58.543452Z",
          "iopub.status.idle": "2022-09-23T19:44:13.173769Z",
          "shell.execute_reply.started": "2022-09-23T19:42:58.543416Z",
          "shell.execute_reply": "2022-09-23T19:44:13.172871Z"
        },
        "trusted": true,
        "id": "yI9auoT8bw1M"
      },
      "execution_count": 59,
      "outputs": []
    },
    {
      "cell_type": "code",
      "source": [
        "# Extract the best model\n",
        "best_lr = models.bestModel"
      ],
      "metadata": {
        "execution": {
          "iopub.status.busy": "2022-09-23T19:44:20.590744Z",
          "iopub.execute_input": "2022-09-23T19:44:20.591457Z",
          "iopub.status.idle": "2022-09-23T19:44:20.598827Z",
          "shell.execute_reply.started": "2022-09-23T19:44:20.591399Z",
          "shell.execute_reply": "2022-09-23T19:44:20.596504Z"
        },
        "trusted": true,
        "id": "-v6BZG14bw1N"
      },
      "execution_count": 60,
      "outputs": []
    },
    {
      "cell_type": "code",
      "source": [
        "# Use the model to predict the test set\n",
        "test_results = best_lr.transform(test)\n",
        "#\n",
        "# Evaluate the predictions\n",
        "print(evaluator.evaluate(test_results))"
      ],
      "metadata": {
        "execution": {
          "iopub.status.busy": "2022-09-23T19:44:22.154679Z",
          "iopub.execute_input": "2022-09-23T19:44:22.155229Z",
          "iopub.status.idle": "2022-09-23T19:44:22.856000Z",
          "shell.execute_reply.started": "2022-09-23T19:44:22.155186Z",
          "shell.execute_reply": "2022-09-23T19:44:22.854582Z"
        },
        "trusted": true,
        "colab": {
          "base_uri": "https://localhost:8080/"
        },
        "id": "Wo8PLGngbw1P",
        "outputId": "660a68ce-e9d0-4e23-a731-d33c8ec420c5"
      },
      "execution_count": 61,
      "outputs": [
        {
          "output_type": "stream",
          "name": "stdout",
          "text": [
            "0.6965362626021483\n"
          ]
        }
      ]
    },
    {
      "cell_type": "code",
      "source": [],
      "metadata": {
        "id": "PI-GtzChbw1Q"
      },
      "execution_count": 61,
      "outputs": []
    }
  ]
}